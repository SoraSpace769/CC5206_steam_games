{
 "cells": [
  {
   "cell_type": "markdown",
   "metadata": {},
   "source": [
    "## Aplicación métodos de exploración del dataset\n",
    "\n",
    "Empezamos importando el dataset desde el repositorio del proyecto."
   ]
  },
  {
   "cell_type": "code",
   "execution_count": 1,
   "metadata": {},
   "outputs": [
    {
     "data": {
      "text/html": [
       "<div>\n",
       "<style scoped>\n",
       "    .dataframe tbody tr th:only-of-type {\n",
       "        vertical-align: middle;\n",
       "    }\n",
       "\n",
       "    .dataframe tbody tr th {\n",
       "        vertical-align: top;\n",
       "    }\n",
       "\n",
       "    .dataframe thead th {\n",
       "        text-align: right;\n",
       "    }\n",
       "</style>\n",
       "<table border=\"1\" class=\"dataframe\">\n",
       "  <thead>\n",
       "    <tr style=\"text-align: right;\">\n",
       "      <th></th>\n",
       "      <th>appid</th>\n",
       "      <th>name</th>\n",
       "      <th>developer</th>\n",
       "      <th>publisher</th>\n",
       "      <th>price</th>\n",
       "      <th>year</th>\n",
       "      <th>duenos_promedio</th>\n",
       "      <th>rating_neto</th>\n",
       "      <th>rating_perc</th>\n",
       "      <th>Action</th>\n",
       "      <th>...</th>\n",
       "      <th>Casual</th>\n",
       "      <th>Simulation</th>\n",
       "      <th>Racing</th>\n",
       "      <th>Violent</th>\n",
       "      <th>Massively Multiplayer</th>\n",
       "      <th>Nudity</th>\n",
       "      <th>Sports</th>\n",
       "      <th>Early Access</th>\n",
       "      <th>Gore</th>\n",
       "      <th>Sexual Content</th>\n",
       "    </tr>\n",
       "  </thead>\n",
       "  <tbody>\n",
       "    <tr>\n",
       "      <th>0</th>\n",
       "      <td>10</td>\n",
       "      <td>Counter-Strike</td>\n",
       "      <td>Valve</td>\n",
       "      <td>Valve</td>\n",
       "      <td>7801</td>\n",
       "      <td>2000</td>\n",
       "      <td>15000000.0</td>\n",
       "      <td>121195</td>\n",
       "      <td>0.973888</td>\n",
       "      <td>1</td>\n",
       "      <td>...</td>\n",
       "      <td>0</td>\n",
       "      <td>0</td>\n",
       "      <td>0</td>\n",
       "      <td>0</td>\n",
       "      <td>0</td>\n",
       "      <td>0</td>\n",
       "      <td>0</td>\n",
       "      <td>0</td>\n",
       "      <td>0</td>\n",
       "      <td>0</td>\n",
       "    </tr>\n",
       "    <tr>\n",
       "      <th>1</th>\n",
       "      <td>20</td>\n",
       "      <td>Team Fortress Classic</td>\n",
       "      <td>Valve</td>\n",
       "      <td>Valve</td>\n",
       "      <td>4329</td>\n",
       "      <td>1999</td>\n",
       "      <td>7500000.0</td>\n",
       "      <td>2685</td>\n",
       "      <td>0.839787</td>\n",
       "      <td>1</td>\n",
       "      <td>...</td>\n",
       "      <td>0</td>\n",
       "      <td>0</td>\n",
       "      <td>0</td>\n",
       "      <td>0</td>\n",
       "      <td>0</td>\n",
       "      <td>0</td>\n",
       "      <td>0</td>\n",
       "      <td>0</td>\n",
       "      <td>0</td>\n",
       "      <td>0</td>\n",
       "    </tr>\n",
       "    <tr>\n",
       "      <th>2</th>\n",
       "      <td>30</td>\n",
       "      <td>Day of Defeat</td>\n",
       "      <td>Valve</td>\n",
       "      <td>Valve</td>\n",
       "      <td>4329</td>\n",
       "      <td>2003</td>\n",
       "      <td>7500000.0</td>\n",
       "      <td>3018</td>\n",
       "      <td>0.895648</td>\n",
       "      <td>1</td>\n",
       "      <td>...</td>\n",
       "      <td>0</td>\n",
       "      <td>0</td>\n",
       "      <td>0</td>\n",
       "      <td>0</td>\n",
       "      <td>0</td>\n",
       "      <td>0</td>\n",
       "      <td>0</td>\n",
       "      <td>0</td>\n",
       "      <td>0</td>\n",
       "      <td>0</td>\n",
       "    </tr>\n",
       "    <tr>\n",
       "      <th>3</th>\n",
       "      <td>40</td>\n",
       "      <td>Deathmatch Classic</td>\n",
       "      <td>Valve</td>\n",
       "      <td>Valve</td>\n",
       "      <td>4329</td>\n",
       "      <td>2001</td>\n",
       "      <td>7500000.0</td>\n",
       "      <td>1006</td>\n",
       "      <td>0.826623</td>\n",
       "      <td>1</td>\n",
       "      <td>...</td>\n",
       "      <td>0</td>\n",
       "      <td>0</td>\n",
       "      <td>0</td>\n",
       "      <td>0</td>\n",
       "      <td>0</td>\n",
       "      <td>0</td>\n",
       "      <td>0</td>\n",
       "      <td>0</td>\n",
       "      <td>0</td>\n",
       "      <td>0</td>\n",
       "    </tr>\n",
       "    <tr>\n",
       "      <th>4</th>\n",
       "      <td>50</td>\n",
       "      <td>Half-Life: Opposing Force</td>\n",
       "      <td>Gearbox Software</td>\n",
       "      <td>Valve</td>\n",
       "      <td>4329</td>\n",
       "      <td>1999</td>\n",
       "      <td>7500000.0</td>\n",
       "      <td>4962</td>\n",
       "      <td>0.947996</td>\n",
       "      <td>1</td>\n",
       "      <td>...</td>\n",
       "      <td>0</td>\n",
       "      <td>0</td>\n",
       "      <td>0</td>\n",
       "      <td>0</td>\n",
       "      <td>0</td>\n",
       "      <td>0</td>\n",
       "      <td>0</td>\n",
       "      <td>0</td>\n",
       "      <td>0</td>\n",
       "      <td>0</td>\n",
       "    </tr>\n",
       "  </tbody>\n",
       "</table>\n",
       "<p>5 rows × 25 columns</p>\n",
       "</div>"
      ],
      "text/plain": [
       "   appid                       name         developer publisher  price  year  \\\n",
       "0     10             Counter-Strike             Valve     Valve   7801  2000   \n",
       "1     20      Team Fortress Classic             Valve     Valve   4329  1999   \n",
       "2     30              Day of Defeat             Valve     Valve   4329  2003   \n",
       "3     40         Deathmatch Classic             Valve     Valve   4329  2001   \n",
       "4     50  Half-Life: Opposing Force  Gearbox Software     Valve   4329  1999   \n",
       "\n",
       "   duenos_promedio  rating_neto  rating_perc  Action  ...  Casual  Simulation  \\\n",
       "0       15000000.0       121195     0.973888       1  ...       0           0   \n",
       "1        7500000.0         2685     0.839787       1  ...       0           0   \n",
       "2        7500000.0         3018     0.895648       1  ...       0           0   \n",
       "3        7500000.0         1006     0.826623       1  ...       0           0   \n",
       "4        7500000.0         4962     0.947996       1  ...       0           0   \n",
       "\n",
       "   Racing  Violent  Massively Multiplayer  Nudity  Sports  Early Access  Gore  \\\n",
       "0       0        0                      0       0       0             0     0   \n",
       "1       0        0                      0       0       0             0     0   \n",
       "2       0        0                      0       0       0             0     0   \n",
       "3       0        0                      0       0       0             0     0   \n",
       "4       0        0                      0       0       0             0     0   \n",
       "\n",
       "   Sexual Content  \n",
       "0               0  \n",
       "1               0  \n",
       "2               0  \n",
       "3               0  \n",
       "4               0  \n",
       "\n",
       "[5 rows x 25 columns]"
      ]
     },
     "execution_count": 1,
     "metadata": {},
     "output_type": "execute_result"
    }
   ],
   "source": [
    "import pandas as pd\n",
    "import numpy as np\n",
    "\n",
    "df = pd.read_csv('https://raw.githubusercontent.com/SoraSpace769/CC5206_steam_games/GMatamoro/data/steam_ready2.csv')\n",
    "df.drop(df.columns[0], axis=1, inplace=True)\n",
    "df.head()"
   ]
  },
  {
   "cell_type": "markdown",
   "metadata": {},
   "source": [
    "## Experimentos con el dataset\n",
    "\n",
    "Para obtener un clustering óptimo para nuestro proyecto, tenemos que elegir correctamente:\n",
    "* Los atributos que usaremos\n",
    "* El método para normalizar los datos\n",
    "* El algoritmo de clustering apropiado\n",
    "\n",
    "Entonces debemos realizar varios experimentos probando con distintas formas de trabajar los datos:"
   ]
  },
  {
   "cell_type": "markdown",
   "metadata": {},
   "source": [
    "### Experimento 1: (todos los datos numéricos),(normalización MinMax),(K-Means)\n",
    "**1. Normalización de los datos**"
   ]
  },
  {
   "cell_type": "code",
   "execution_count": 2,
   "metadata": {},
   "outputs": [
    {
     "data": {
      "text/html": [
       "<div>\n",
       "<style scoped>\n",
       "    .dataframe tbody tr th:only-of-type {\n",
       "        vertical-align: middle;\n",
       "    }\n",
       "\n",
       "    .dataframe tbody tr th {\n",
       "        vertical-align: top;\n",
       "    }\n",
       "\n",
       "    .dataframe thead th {\n",
       "        text-align: right;\n",
       "    }\n",
       "</style>\n",
       "<table border=\"1\" class=\"dataframe\">\n",
       "  <thead>\n",
       "    <tr style=\"text-align: right;\">\n",
       "      <th></th>\n",
       "      <th>0</th>\n",
       "      <th>1</th>\n",
       "      <th>2</th>\n",
       "      <th>3</th>\n",
       "      <th>4</th>\n",
       "    </tr>\n",
       "  </thead>\n",
       "  <tbody>\n",
       "    <tr>\n",
       "      <th>0</th>\n",
       "      <td>0.091023</td>\n",
       "      <td>0.136364</td>\n",
       "      <td>0.099940</td>\n",
       "      <td>0.057308</td>\n",
       "      <td>0.973888</td>\n",
       "    </tr>\n",
       "    <tr>\n",
       "      <th>1</th>\n",
       "      <td>0.050511</td>\n",
       "      <td>0.090909</td>\n",
       "      <td>0.049937</td>\n",
       "      <td>0.004633</td>\n",
       "      <td>0.839787</td>\n",
       "    </tr>\n",
       "    <tr>\n",
       "      <th>2</th>\n",
       "      <td>0.050511</td>\n",
       "      <td>0.272727</td>\n",
       "      <td>0.049937</td>\n",
       "      <td>0.004781</td>\n",
       "      <td>0.895648</td>\n",
       "    </tr>\n",
       "    <tr>\n",
       "      <th>3</th>\n",
       "      <td>0.050511</td>\n",
       "      <td>0.181818</td>\n",
       "      <td>0.049937</td>\n",
       "      <td>0.003887</td>\n",
       "      <td>0.826623</td>\n",
       "    </tr>\n",
       "    <tr>\n",
       "      <th>4</th>\n",
       "      <td>0.050511</td>\n",
       "      <td>0.090909</td>\n",
       "      <td>0.049937</td>\n",
       "      <td>0.005645</td>\n",
       "      <td>0.947996</td>\n",
       "    </tr>\n",
       "  </tbody>\n",
       "</table>\n",
       "</div>"
      ],
      "text/plain": [
       "          0         1         2         3         4\n",
       "0  0.091023  0.136364  0.099940  0.057308  0.973888\n",
       "1  0.050511  0.090909  0.049937  0.004633  0.839787\n",
       "2  0.050511  0.272727  0.049937  0.004781  0.895648\n",
       "3  0.050511  0.181818  0.049937  0.003887  0.826623\n",
       "4  0.050511  0.090909  0.049937  0.005645  0.947996"
      ]
     },
     "execution_count": 2,
     "metadata": {},
     "output_type": "execute_result"
    }
   ],
   "source": [
    "from sklearn import preprocessing\n",
    "\n",
    "df_numeric = df[[\"price\",\"year\",\"duenos_promedio\",\"rating_neto\",\"rating_perc\"]]\n",
    "\n",
    "# MinMax = x - min(x) / max(x) - min(x)\n",
    "\n",
    "x = df_numeric.values \n",
    "min_max_scaler = preprocessing.MinMaxScaler()\n",
    "x_scaled = min_max_scaler.fit_transform(x)\n",
    "df_numeric = pd.DataFrame(x_scaled)\n",
    "df_numeric.head()"
   ]
  },
  {
   "cell_type": "markdown",
   "metadata": {},
   "source": [
    "**2. Obtener parámetro k y clusters**"
   ]
  },
  {
   "cell_type": "code",
   "execution_count": 4,
   "metadata": {},
   "outputs": [
    {
     "data": {
      "image/png": "[encoded data removed]",
      "text/plain": [
       "<Figure size 432x288 with 1 Axes>"
      ]
     },
     "metadata": {
      "needs_background": "light"
     },
     "output_type": "display_data"
    }
   ],
   "source": [
    "from sklearn.cluster import KMeans\n",
    "import matplotlib.pyplot as plt  \n",
    "\n",
    "sse = []\n",
    "\n",
    "clusters = list(range(1, 16))\n",
    "for k in clusters:\n",
    "    kmeans = KMeans(n_clusters=k).fit(df_numeric)\n",
    "    sse.append(kmeans.inertia_)\n",
    "plt.plot(clusters, sse, marker=\"o\")\n",
    "plt.title(\"Metodo del codo de 1 a 15 clusters\")\n",
    "plt.grid(True)\n",
    "plt.show()"
   ]
  },
  {
   "cell_type": "code",
   "execution_count": 25,
   "metadata": {},
   "outputs": [
    {
     "name": "stdout",
     "output_type": "stream",
     "text": [
      "cluster 1 = 6430\n",
      "cluster 2 = 4129\n",
      "cluster 3 = 1502\n",
      "cluster 4 = 5609\n",
      "cluster 5 = 6796\n",
      "cluster 6 = 1042\n",
      "cluster 7 = 1405\n"
     ]
    }
   ],
   "source": [
    "k=7\n",
    "kmeans = KMeans(n_clusters=k).fit(df_numeric)\n",
    "df_labels = kmeans.labels_\n",
    "count_num = lambda num, arr: len(list(filter(lambda x: x==num, arr)))\n",
    "for i in range(k):\n",
    "    print('cluster '+str(i+1)+' = ' + str(count_num(i,df_labels)))"
   ]
  },
  {
   "cell_type": "markdown",
   "metadata": {},
   "source": [
    "**3. Reducción de dimensiones y aplicar algoritmo**"
   ]
  },
  {
   "cell_type": "code",
   "execution_count": 8,
   "metadata": {},
   "outputs": [],
   "source": [
    "from sklearn.decomposition import PCA\n",
    "\n",
    "new_df_numeric = PCA(n_components=2, random_state=0).fit_transform(df_numeric)"
   ]
  },
  {
   "cell_type": "code",
   "execution_count": 8,
   "metadata": {},
   "outputs": [
    {
     "data": {
      "image/png": "[encoded data removed]",
      "text/plain": [
       "<Figure size 432x288 with 1 Axes>"
      ]
     },
     "metadata": {
      "needs_background": "light"
     },
     "output_type": "display_data"
    },
    {
     "data": {
      "image/png": "[encoded data removed]",
      "text/plain": [
       "<Figure size 432x288 with 1 Axes>"
      ]
     },
     "metadata": {
      "needs_background": "light"
     },
     "output_type": "display_data"
    }
   ],
   "source": [
    "plt.scatter(new_df_numeric[:, 0], new_df_numeric[:, 1])\n",
    "plt.title(\"Dataset reducido a 2 atributos\")\n",
    "plt.show()\n",
    "\n",
    "kmeans_new = KMeans(n_clusters=7).fit(new_df_numeric)\n",
    "plt.scatter(new_df_numeric[:, 0], new_df_numeric[:, 1] , c=df_labels)\n",
    "plt.title(\"Dataset reducido dividido en 7 clusters con KMeans\")\n",
    "plt.show()"
   ]
  },
  {
   "cell_type": "markdown",
   "metadata": {},
   "source": [
    "**4. Resultados y observaciones**\n",
    "\n",
    "Podemos ver muchos valores extraños, donde ciertos datos se encuentran dentro de otros clusters. Esto se puede deber al cambio drástico que el dataset sufre al reducir sus dimensiones, cosa que no sucedía tan claramente en experimentos hechos previamente en el curso, lo cual se puede deber a la naturaleza del dataset o también a que quizá la reducción de dimensiones usando `PCA` no es tan precisa, intentaremos usar otro método de la librería **decomposition** de **sklearn** llamado **_Singular Value Decomposition_**.. \n",
    "\n",
    "Primero podemos ver que cuando dividimos el dataset en clusters **después de reducir sus dimensiones** este problema se arregla (naturalmente). Luego intentamos nuevamente con `SVD` y observamos cómo cambia la distribución de los datos y si el problema mencionado anteriormente se presenta de igual manera."
   ]
  },
  {
   "cell_type": "code",
   "execution_count": 28,
   "metadata": {},
   "outputs": [
    {
     "data": {
      "image/png": "[encoded data removed]",
      "text/plain": [
       "<Figure size 432x288 with 1 Axes>"
      ]
     },
     "metadata": {
      "needs_background": "light"
     },
     "output_type": "display_data"
    }
   ],
   "source": [
    "k=7\n",
    "\n",
    "kmeans = KMeans(n_clusters=k).fit(new_df_numeric)\n",
    "df_labels = kmeans.labels_\n",
    "\n",
    "kmeans_new = KMeans(n_clusters=k).fit(new_df_numeric)\n",
    "plt.scatter(new_df_numeric[:, 0], new_df_numeric[:, 1] , c=df_labels)\n",
    "plt.title(\"Dataset reducido dividido en 7 clusters con KMeans\\n(usando clusters desde los datos reducidos)\")\n",
    "plt.show()"
   ]
  },
  {
   "cell_type": "code",
   "execution_count": 29,
   "metadata": {},
   "outputs": [],
   "source": [
    "from sklearn.decomposition import TruncatedSVD as TSVD\n",
    "svd = TSVD(n_components=2, random_state=0).fit_transform(df_numeric.values)"
   ]
  },
  {
   "cell_type": "code",
   "execution_count": 30,
   "metadata": {},
   "outputs": [
    {
     "data": {
      "image/png": "[encoded data removed]",
      "text/plain": [
       "<Figure size 432x288 with 1 Axes>"
      ]
     },
     "metadata": {
      "needs_background": "light"
     },
     "output_type": "display_data"
    },
    {
     "data": {
      "image/png": "[encoded data removed]",
      "text/plain": [
       "<Figure size 432x288 with 1 Axes>"
      ]
     },
     "metadata": {
      "needs_background": "light"
     },
     "output_type": "display_data"
    }
   ],
   "source": [
    "k=7\n",
    "\n",
    "kmeans = KMeans(n_clusters=k).fit(df_numeric)\n",
    "df_labels = kmeans.labels_\n",
    "\n",
    "plt.scatter(svd[:, 0], svd[:, 1] , c=df_labels)\n",
    "plt.title(\"Dataset reducido dividido en 7 clusters con KMeans\\n(usando los clusters previamente obtenidos)\")\n",
    "plt.show()\n",
    "\n",
    "kmeans = KMeans(n_clusters=k).fit(svd)\n",
    "df_labels = kmeans.labels_\n",
    "\n",
    "plt.scatter(svd[:, 0], svd[:, 1] , c=df_labels)\n",
    "plt.title(\"Dataset reducido dividido en 7 clusters con KMeans\\n(usando clusters desde los datos reducidos)\")\n",
    "plt.show()"
   ]
  },
  {
   "cell_type": "markdown",
   "metadata": {},
   "source": [
    "Si bien por un lado aparecen muchos datos dispersos entre diferentes clusters, pareciera también que se redujo la aglomeración de los puntos. De cualquier manera, seguiremos observando otros experimentos, pero a partir de ahora **dividiremos los clusters después de reducir las dimensiones de los datos** para evitar evidentes problemas de clustering."
   ]
  },
  {
   "cell_type": "markdown",
   "metadata": {},
   "source": [
    "### Experimento 2: (normalización Z-score)"
   ]
  },
  {
   "cell_type": "markdown",
   "metadata": {},
   "source": [
    "**1. Normalización de los datos** "
   ]
  },
  {
   "cell_type": "code",
   "execution_count": 14,
   "metadata": {},
   "outputs": [
    {
     "data": {
      "text/html": [
       "<div>\n",
       "<style scoped>\n",
       "    .dataframe tbody tr th:only-of-type {\n",
       "        vertical-align: middle;\n",
       "    }\n",
       "\n",
       "    .dataframe tbody tr th {\n",
       "        vertical-align: top;\n",
       "    }\n",
       "\n",
       "    .dataframe thead th {\n",
       "        text-align: right;\n",
       "    }\n",
       "</style>\n",
       "<table border=\"1\" class=\"dataframe\">\n",
       "  <thead>\n",
       "    <tr style=\"text-align: right;\">\n",
       "      <th></th>\n",
       "      <th>price</th>\n",
       "      <th>year</th>\n",
       "      <th>duenos_promedio</th>\n",
       "      <th>rating_neto</th>\n",
       "      <th>rating_perc</th>\n",
       "    </tr>\n",
       "  </thead>\n",
       "  <tbody>\n",
       "    <tr>\n",
       "      <th>0</th>\n",
       "      <td>0.190166</td>\n",
       "      <td>-7.639879</td>\n",
       "      <td>11.167003</td>\n",
       "      <td>7.522544</td>\n",
       "      <td>1.110130</td>\n",
       "    </tr>\n",
       "    <tr>\n",
       "      <th>1</th>\n",
       "      <td>-0.303575</td>\n",
       "      <td>-8.102928</td>\n",
       "      <td>5.533092</td>\n",
       "      <td>0.118359</td>\n",
       "      <td>0.536096</td>\n",
       "    </tr>\n",
       "    <tr>\n",
       "      <th>2</th>\n",
       "      <td>-0.303575</td>\n",
       "      <td>-6.250734</td>\n",
       "      <td>5.533092</td>\n",
       "      <td>0.139164</td>\n",
       "      <td>0.775212</td>\n",
       "    </tr>\n",
       "    <tr>\n",
       "      <th>3</th>\n",
       "      <td>-0.303575</td>\n",
       "      <td>-7.176831</td>\n",
       "      <td>5.533092</td>\n",
       "      <td>0.013460</td>\n",
       "      <td>0.479746</td>\n",
       "    </tr>\n",
       "    <tr>\n",
       "      <th>4</th>\n",
       "      <td>-0.303575</td>\n",
       "      <td>-8.102928</td>\n",
       "      <td>5.533092</td>\n",
       "      <td>0.260620</td>\n",
       "      <td>0.999294</td>\n",
       "    </tr>\n",
       "  </tbody>\n",
       "</table>\n",
       "</div>"
      ],
      "text/plain": [
       "      price      year  duenos_promedio  rating_neto  rating_perc\n",
       "0  0.190166 -7.639879        11.167003     7.522544     1.110130\n",
       "1 -0.303575 -8.102928         5.533092     0.118359     0.536096\n",
       "2 -0.303575 -6.250734         5.533092     0.139164     0.775212\n",
       "3 -0.303575 -7.176831         5.533092     0.013460     0.479746\n",
       "4 -0.303575 -8.102928         5.533092     0.260620     0.999294"
      ]
     },
     "execution_count": 14,
     "metadata": {},
     "output_type": "execute_result"
    }
   ],
   "source": [
    "# Z-score (standardization) = x - mean(x) / std(x)\n",
    "\n",
    "df_numeric = df[[\"price\",\"year\",\"duenos_promedio\",\"rating_neto\",\"rating_perc\"]]\n",
    "df_numeric =(df_numeric-df_numeric.mean())/df_numeric.std()\n",
    "df_numeric.head()"
   ]
  },
  {
   "cell_type": "markdown",
   "metadata": {},
   "source": [
    "**2. Obtener parámetro k**"
   ]
  },
  {
   "cell_type": "code",
   "execution_count": 15,
   "metadata": {},
   "outputs": [
    {
     "data": {
      "image/png": "[encoded data removed]",
      "text/plain": [
       "<Figure size 432x288 with 1 Axes>"
      ]
     },
     "metadata": {
      "needs_background": "light"
     },
     "output_type": "display_data"
    }
   ],
   "source": [
    "sse = []\n",
    "\n",
    "clusters = list(range(1, 16))\n",
    "for k in clusters:\n",
    "    kmeans = KMeans(n_clusters=k).fit(df_numeric)\n",
    "    sse.append(kmeans.inertia_)\n",
    "plt.plot(clusters, sse, marker=\"o\")\n",
    "plt.title(\"Metodo del codo de 1 a 15 clusters\")\n",
    "plt.grid(True)\n",
    "plt.show()"
   ]
  },
  {
   "cell_type": "markdown",
   "metadata": {},
   "source": [
    "**3. Reducción de dimensiones y aplicar algoritmo**"
   ]
  },
  {
   "cell_type": "code",
   "execution_count": 16,
   "metadata": {},
   "outputs": [
    {
     "data": {
      "image/png": "[encoded data removed]",
      "text/plain": [
       "<Figure size 432x288 with 1 Axes>"
      ]
     },
     "metadata": {
      "needs_background": "light"
     },
     "output_type": "display_data"
    },
    {
     "data": {
      "image/png": "[encoded data removed]",
      "text/plain": [
       "<Figure size 432x288 with 1 Axes>"
      ]
     },
     "metadata": {
      "needs_background": "light"
     },
     "output_type": "display_data"
    },
    {
     "data": {
      "image/png": "[encoded data removed]",
      "text/plain": [
       "<Figure size 432x288 with 1 Axes>"
      ]
     },
     "metadata": {
      "needs_background": "light"
     },
     "output_type": "display_data"
    }
   ],
   "source": [
    "k=10\n",
    "\n",
    "new_df_numeric = PCA(n_components=2, random_state=0).fit_transform(df_numeric)\n",
    "\n",
    "kmeans = KMeans(n_clusters=k).fit(new_df_numeric)\n",
    "df_labels = kmeans.labels_\n",
    "\n",
    "plt.scatter(new_df_numeric[:, 0], new_df_numeric[:, 1])\n",
    "plt.title(\"Dataset reducido a 2 atributos\")\n",
    "plt.show()\n",
    "\n",
    "plt.scatter(new_df_numeric[:, 0], new_df_numeric[:, 1] , c=df_labels)\n",
    "plt.title(\"Dataset reducido dividido en 10 clusters con KMeans (reducción PCA)\")\n",
    "plt.show()\n",
    "\n",
    "new_df_numeric = TSVD(n_components=2, random_state=0).fit_transform(df_numeric)\n",
    "\n",
    "kmeans = KMeans(n_clusters=k).fit(new_df_numeric)\n",
    "df_labels2 = kmeans.labels_\n",
    "\n",
    "plt.scatter(new_df_numeric[:, 0], new_df_numeric[:, 1] , c=df_labels2)\n",
    "plt.title(\"Dataset reducido dividido en 10 clusters con KMeans (reducción SVD)\")\n",
    "plt.show()\n"
   ]
  },
  {
   "cell_type": "markdown",
   "metadata": {},
   "source": [
    "**4. Resultados y observaciones**"
   ]
  },
  {
   "cell_type": "markdown",
   "metadata": {},
   "source": [
    "Primero que todo, podemos apreciar que al usar la normalización Z-score los datos con los valores más extremos (que como veremos a continuación parecen corresponder a los juegos más populares) se alejan considerablemente de la aglomeración de los datos comunes. Esto podría ser beneficioso para nuestro objetivo de caracterizar estos juegos.\n",
    "\n",
    "Lo segundo que podemos notar al usar Z-score es que al reducir las dimensiones del dataset usando los dos métodos antes vistos, obtenemos una distribución casi idéntica (si es que no idéntica). Esta consistencia es una buena señal para la exploración, así que seguiremos usándolo."
   ]
  },
  {
   "cell_type": "code",
   "execution_count": 17,
   "metadata": {},
   "outputs": [
    {
     "name": "stdout",
     "output_type": "stream",
     "text": [
      "cluster 1 = 2755\n",
      "cluster 2 = 8564\n",
      "cluster 3 = 2\n",
      "cluster 4 = 523\n",
      "cluster 5 = 32\n",
      "cluster 6 = 2370\n",
      "cluster 7 = 6598\n",
      "cluster 8 = 218\n",
      "cluster 9 = 5\n",
      "cluster 10 = 5846\n"
     ]
    }
   ],
   "source": [
    "for i in range(k):\n",
    "    print('cluster '+str(i+1)+' = ' + str(count_num(i,df_labels)))"
   ]
  },
  {
   "cell_type": "markdown",
   "metadata": {},
   "source": [
    "Pareciera que el 3er cluster se compone de dos outliers groseros, pero no es el caso. El problema es que se trata de los juegos `Counter-Strike: Global Offensive` y `Dota 2`, los cuales son precisamente los juegos más populares de la plataforma. \n",
    "\n",
    "Ahora, no podemos elminar estos datos, ya que para encontrar un modelo que represente los juegos más exitosos deberíamos llegar a clusters que agrupen a los juegos más populares considerando la posición de estos."
   ]
  },
  {
   "cell_type": "code",
   "execution_count": 20,
   "metadata": {},
   "outputs": [
    {
     "data": {
      "text/html": [
       "<div>\n",
       "<style scoped>\n",
       "    .dataframe tbody tr th:only-of-type {\n",
       "        vertical-align: middle;\n",
       "    }\n",
       "\n",
       "    .dataframe tbody tr th {\n",
       "        vertical-align: top;\n",
       "    }\n",
       "\n",
       "    .dataframe thead th {\n",
       "        text-align: right;\n",
       "    }\n",
       "</style>\n",
       "<table border=\"1\" class=\"dataframe\">\n",
       "  <thead>\n",
       "    <tr style=\"text-align: right;\">\n",
       "      <th></th>\n",
       "      <th>appid</th>\n",
       "      <th>name</th>\n",
       "      <th>developer</th>\n",
       "      <th>publisher</th>\n",
       "      <th>price</th>\n",
       "      <th>year</th>\n",
       "      <th>duenos_promedio</th>\n",
       "      <th>rating_neto</th>\n",
       "      <th>rating_perc</th>\n",
       "      <th>Action</th>\n",
       "      <th>...</th>\n",
       "      <th>Casual</th>\n",
       "      <th>Simulation</th>\n",
       "      <th>Racing</th>\n",
       "      <th>Violent</th>\n",
       "      <th>Massively Multiplayer</th>\n",
       "      <th>Nudity</th>\n",
       "      <th>Sports</th>\n",
       "      <th>Early Access</th>\n",
       "      <th>Gore</th>\n",
       "      <th>Sexual Content</th>\n",
       "    </tr>\n",
       "  </thead>\n",
       "  <tbody>\n",
       "    <tr>\n",
       "      <th>22</th>\n",
       "      <td>570</td>\n",
       "      <td>Dota 2</td>\n",
       "      <td>Valve</td>\n",
       "      <td>Valve</td>\n",
       "      <td>0</td>\n",
       "      <td>2013</td>\n",
       "      <td>150000000.0</td>\n",
       "      <td>721428</td>\n",
       "      <td>0.858710</td>\n",
       "      <td>1</td>\n",
       "      <td>...</td>\n",
       "      <td>0</td>\n",
       "      <td>0</td>\n",
       "      <td>0</td>\n",
       "      <td>0</td>\n",
       "      <td>0</td>\n",
       "      <td>0</td>\n",
       "      <td>0</td>\n",
       "      <td>0</td>\n",
       "      <td>0</td>\n",
       "      <td>0</td>\n",
       "    </tr>\n",
       "    <tr>\n",
       "      <th>25</th>\n",
       "      <td>730</td>\n",
       "      <td>Counter-Strike: Global Offensive</td>\n",
       "      <td>Valve;Hidden Path Entertainment</td>\n",
       "      <td>Valve</td>\n",
       "      <td>0</td>\n",
       "      <td>2012</td>\n",
       "      <td>75000000.0</td>\n",
       "      <td>2242091</td>\n",
       "      <td>0.867952</td>\n",
       "      <td>1</td>\n",
       "      <td>...</td>\n",
       "      <td>0</td>\n",
       "      <td>0</td>\n",
       "      <td>0</td>\n",
       "      <td>0</td>\n",
       "      <td>0</td>\n",
       "      <td>0</td>\n",
       "      <td>0</td>\n",
       "      <td>0</td>\n",
       "      <td>0</td>\n",
       "      <td>0</td>\n",
       "    </tr>\n",
       "  </tbody>\n",
       "</table>\n",
       "<p>2 rows × 25 columns</p>\n",
       "</div>"
      ],
      "text/plain": [
       "    appid                              name                        developer  \\\n",
       "22    570                            Dota 2                            Valve   \n",
       "25    730  Counter-Strike: Global Offensive  Valve;Hidden Path Entertainment   \n",
       "\n",
       "   publisher  price  year  duenos_promedio  rating_neto  rating_perc  Action  \\\n",
       "22     Valve      0  2013      150000000.0       721428     0.858710       1   \n",
       "25     Valve      0  2012       75000000.0      2242091     0.867952       1   \n",
       "\n",
       "    ...  Casual  Simulation  Racing  Violent  Massively Multiplayer  Nudity  \\\n",
       "22  ...       0           0       0        0                      0       0   \n",
       "25  ...       0           0       0        0                      0       0   \n",
       "\n",
       "    Sports  Early Access  Gore  Sexual Content  \n",
       "22       0             0     0               0  \n",
       "25       0             0     0               0  \n",
       "\n",
       "[2 rows x 25 columns]"
      ]
     },
     "execution_count": 20,
     "metadata": {},
     "output_type": "execute_result"
    }
   ],
   "source": [
    "juegos = []\n",
    "for i in range(len(df_labels)):\n",
    "    if df_labels[i]+1 == 3:\n",
    "        juegos.append(i)\n",
    "df.iloc[juegos]"
   ]
  },
  {
   "cell_type": "markdown",
   "metadata": {},
   "source": [
    "Aunque, si observamos los juegos del 5to y 9no cluster, podemos observar que generamos tres clusters de interés constituidos por varios juegos que de antemano sabemos que pueden ser considerados populares o exitosos. Esto puede significar que vamos por buen camino, quizás **una buena estrategia sería dividir el dataset en varios clusters y luego ir reagrupando los que no correspondan a los juegos más exitosos** para tener un mejor criterio de evaluación de los datos que pueda ser usado en el futuro. "
   ]
  },
  {
   "cell_type": "code",
   "execution_count": 21,
   "metadata": {},
   "outputs": [
    {
     "name": "stdout",
     "output_type": "stream",
     "text": [
      "Juegos del 9no cluster\n"
     ]
    },
    {
     "data": {
      "text/plain": [
       "19                     Team Fortress 2\n",
       "120                        Garry's Mod\n",
       "1630                          Warframe\n",
       "3333                          Unturned\n",
       "12746    PLAYERUNKNOWN'S BATTLEGROUNDS\n",
       "Name: name, dtype: object"
      ]
     },
     "execution_count": 21,
     "metadata": {},
     "output_type": "execute_result"
    }
   ],
   "source": [
    "print(\"Juegos del 9no cluster\")\n",
    "juegos = []\n",
    "for i in range(len(df_labels)):\n",
    "    if df_labels[i]+1 == 9:\n",
    "        juegos.append(i)\n",
    "df.iloc[juegos,1]"
   ]
  },
  {
   "cell_type": "code",
   "execution_count": 22,
   "metadata": {},
   "outputs": [
    {
     "name": "stdout",
     "output_type": "stream",
     "text": [
      "Juegos del 5to cluster\n"
     ]
    },
    {
     "data": {
      "text/plain": [
       "0                        Counter-Strike\n",
       "7        Counter-Strike: Condition Zero\n",
       "9                           Half-Life 2\n",
       "10               Counter-Strike: Source\n",
       "13              Half-Life 2: Deathmatch\n",
       "14              Half-Life 2: Lost Coast\n",
       "17                               Portal\n",
       "21                        Left 4 Dead 2\n",
       "23                             Portal 2\n",
       "221         Sid Meier's Civilization® V\n",
       "902                       Borderlands 2\n",
       "1024        The Elder Scrolls V: Skyrim\n",
       "1118                           Terraria\n",
       "1213                        Tomb Raider\n",
       "1464                           PAYDAY 2\n",
       "1592             Euro Truck Simulator 2\n",
       "1603                  Heroes & Generals\n",
       "1721                        War Thunder\n",
       "1766                      Path of Exile\n",
       "2007                               Rust\n",
       "2022                     Rocket League®\n",
       "2456                 Grand Theft Auto V\n",
       "2924                            Warface\n",
       "2925                         Brawlhalla\n",
       "2937          The Witcher® 3: Wild Hunt\n",
       "3223                          Robocraft\n",
       "3755        Life is Strange - Episode 1\n",
       "3834              Don't Starve Together\n",
       "5198    Tom Clancy's Rainbow Six® Siege\n",
       "6003                   Dead by Daylight\n",
       "7752                   Z1 Battle Royale\n",
       "8069                          Paladins®\n",
       "Name: name, dtype: object"
      ]
     },
     "execution_count": 22,
     "metadata": {},
     "output_type": "execute_result"
    }
   ],
   "source": [
    "print(\"Juegos del 5to cluster\")\n",
    "juegos = []\n",
    "for i in range(len(df_labels)):\n",
    "    if df_labels[i]+1 == 5:\n",
    "        juegos.append(i)\n",
    "df.iloc[juegos,1]"
   ]
  },
  {
   "cell_type": "markdown",
   "metadata": {},
   "source": [
    "### Experimento 3: (- AÑOS),(múltiples clusters + aglomeración de comunes)\n",
    "\n",
    "Para este experimento ya no consideramos el año de salida de los juegos, ya que si el objetivo del clustering es obtener agrupaciones para luego ser usadas en un modelo de clasificación predictivo, no tiene sentido pensar en el año de salida de juegos anteriores como alternativa para los proximos lanzamientos.\n",
    "\n",
    "Incluiremos la variable usuarios promedio a pesar de su alta correlación con el rating neto. Esto es para evitar problemas ciertos problemas de clustering, ya que de lo contrario se pueden considerar juegos con pocos usuarios como similares a los más populares basado en su porcentaje de ratings positivos y su precio, en especial si son Free-2-Play.\n",
    "\n",
    "Nuestro objetivo con este experimento es aplicar la estrategia planteada en la parte anterior."
   ]
  },
  {
   "cell_type": "markdown",
   "metadata": {},
   "source": [
    "**1. Normalización de los datos** "
   ]
  },
  {
   "cell_type": "code",
   "execution_count": 2,
   "metadata": {},
   "outputs": [
    {
     "data": {
      "text/html": [
       "<div>\n",
       "<style scoped>\n",
       "    .dataframe tbody tr th:only-of-type {\n",
       "        vertical-align: middle;\n",
       "    }\n",
       "\n",
       "    .dataframe tbody tr th {\n",
       "        vertical-align: top;\n",
       "    }\n",
       "\n",
       "    .dataframe thead th {\n",
       "        text-align: right;\n",
       "    }\n",
       "</style>\n",
       "<table border=\"1\" class=\"dataframe\">\n",
       "  <thead>\n",
       "    <tr style=\"text-align: right;\">\n",
       "      <th></th>\n",
       "      <th>price</th>\n",
       "      <th>duenos_promedio</th>\n",
       "      <th>rating_neto</th>\n",
       "      <th>rating_perc</th>\n",
       "    </tr>\n",
       "  </thead>\n",
       "  <tbody>\n",
       "    <tr>\n",
       "      <th>0</th>\n",
       "      <td>0.190166</td>\n",
       "      <td>11.167003</td>\n",
       "      <td>7.522544</td>\n",
       "      <td>1.110130</td>\n",
       "    </tr>\n",
       "    <tr>\n",
       "      <th>1</th>\n",
       "      <td>-0.303575</td>\n",
       "      <td>5.533092</td>\n",
       "      <td>0.118359</td>\n",
       "      <td>0.536096</td>\n",
       "    </tr>\n",
       "    <tr>\n",
       "      <th>2</th>\n",
       "      <td>-0.303575</td>\n",
       "      <td>5.533092</td>\n",
       "      <td>0.139164</td>\n",
       "      <td>0.775212</td>\n",
       "    </tr>\n",
       "    <tr>\n",
       "      <th>3</th>\n",
       "      <td>-0.303575</td>\n",
       "      <td>5.533092</td>\n",
       "      <td>0.013460</td>\n",
       "      <td>0.479746</td>\n",
       "    </tr>\n",
       "    <tr>\n",
       "      <th>4</th>\n",
       "      <td>-0.303575</td>\n",
       "      <td>5.533092</td>\n",
       "      <td>0.260620</td>\n",
       "      <td>0.999294</td>\n",
       "    </tr>\n",
       "  </tbody>\n",
       "</table>\n",
       "</div>"
      ],
      "text/plain": [
       "      price  duenos_promedio  rating_neto  rating_perc\n",
       "0  0.190166        11.167003     7.522544     1.110130\n",
       "1 -0.303575         5.533092     0.118359     0.536096\n",
       "2 -0.303575         5.533092     0.139164     0.775212\n",
       "3 -0.303575         5.533092     0.013460     0.479746\n",
       "4 -0.303575         5.533092     0.260620     0.999294"
      ]
     },
     "execution_count": 2,
     "metadata": {},
     "output_type": "execute_result"
    }
   ],
   "source": [
    "# Z-score (standardization) = x - mean(x) / std(x)\n",
    "\n",
    "df_numeric = df[[\"price\",\"duenos_promedio\",\"rating_neto\",\"rating_perc\"]]\n",
    "df_numeric =(df_numeric-df_numeric.mean())/df_numeric.std()\n",
    "df_numeric.head()"
   ]
  },
  {
   "cell_type": "markdown",
   "metadata": {},
   "source": [
    "**2. Obtener parámetro k** \n",
    "\n",
    "Aunque ya estamos determinados a obtener una alta cantidad de clusters, asi que usaremos un `k` bastante grande."
   ]
  },
  {
   "cell_type": "code",
   "execution_count": 6,
   "metadata": {},
   "outputs": [
    {
     "data": {
      "image/png": "[encoded data removed]",
      "text/plain": [
       "<Figure size 432x288 with 1 Axes>"
      ]
     },
     "metadata": {
      "needs_background": "light"
     },
     "output_type": "display_data"
    }
   ],
   "source": [
    "sse = []\n",
    "\n",
    "clusters = list(range(1, 26))\n",
    "for k in clusters:\n",
    "    kmeans = KMeans(n_clusters=k).fit(df_numeric)\n",
    "    sse.append(kmeans.inertia_)\n",
    "plt.plot(clusters, sse, marker=\"o\")\n",
    "plt.title(\"Metodo del codo de 1 a 25 clusters\")\n",
    "plt.grid(True)\n",
    "plt.show()"
   ]
  },
  {
   "cell_type": "markdown",
   "metadata": {},
   "source": [
    "**3. Reducción de dimensiones y aplicar algoritmo**"
   ]
  },
  {
   "cell_type": "code",
   "execution_count": 5,
   "metadata": {},
   "outputs": [
    {
     "data": {
      "image/png": "[encoded data removed]",
      "text/plain": [
       "<Figure size 432x288 with 1 Axes>"
      ]
     },
     "metadata": {
      "needs_background": "light"
     },
     "output_type": "display_data"
    },
    {
     "data": {
      "image/png": "[encoded data removed]",
      "text/plain": [
       "<Figure size 432x288 with 1 Axes>"
      ]
     },
     "metadata": {
      "needs_background": "light"
     },
     "output_type": "display_data"
    }
   ],
   "source": [
    "\n",
    "from sklearn.decomposition import PCA\n",
    "from sklearn.cluster import KMeans\n",
    "import matplotlib.pyplot as plt  \n",
    "\n",
    "k=25\n",
    "\n",
    "new_df_numeric = PCA(n_components=2, random_state=0).fit_transform(df_numeric.values)\n",
    "\n",
    "plt.scatter(new_df_numeric[:, 0], new_df_numeric[:, 1])\n",
    "plt.title(\"Dataset reducido a 2 atributos\")\n",
    "plt.show()\n",
    "\n",
    "kmeans = KMeans(n_clusters=k).fit(new_df_numeric)\n",
    "df_labels = kmeans.labels_\n",
    "\n",
    "plt.scatter(new_df_numeric[:, 0], new_df_numeric[:, 1] , c=df_labels)\n",
    "plt.title(\"Dataset reducido dividido en 25 clusters con KMeans\")\n",
    "plt.show()\n"
   ]
  },
  {
   "cell_type": "markdown",
   "metadata": {},
   "source": [
    "**4. Resultados y observaciones**"
   ]
  },
  {
   "cell_type": "markdown",
   "metadata": {},
   "source": [
    "A simple vista, todo el dataset menos los resultados más lejanos estan aglomerados. Pero a continuación veremos que si quitamos estos datos podemos observar los clusters bien definidos y ordenados apuntando al dato mayor. Esto es una muy buena señal, pero es necesario verificar observando los juegos que corresponden a estos clusters."
   ]
  },
  {
   "cell_type": "code",
   "execution_count": 16,
   "metadata": {},
   "outputs": [
    {
     "data": {
      "image/png": "[encoded data removed]",
      "text/plain": [
       "<Figure size 432x288 with 1 Axes>"
      ]
     },
     "metadata": {
      "needs_background": "light"
     },
     "output_type": "display_data"
    }
   ],
   "source": [
    "plt.scatter(new_df_numeric[:, 0], new_df_numeric[:, 1] , c=df_labels)\n",
    "plt.title(\"Dataset (sin CS:GO ; sin Dota 2)\")\n",
    "plt.xlim(-2, 42)\n",
    "plt.ylim(-9, 6)\n",
    "plt.show()"
   ]
  },
  {
   "cell_type": "code",
   "execution_count": 6,
   "metadata": {},
   "outputs": [
    {
     "name": "stdout",
     "output_type": "stream",
     "text": [
      "cluster 1 = 2152\n",
      "cluster 2 = 2403\n",
      "cluster 3 = 1\n",
      "cluster 4 = 3970\n",
      "cluster 5 = 11\n",
      "cluster 6 = 440\n",
      "cluster 7 = 82\n",
      "cluster 8 = 3\n",
      "cluster 9 = 625\n",
      "cluster 10 = 3409\n",
      "cluster 11 = 3704\n",
      "cluster 12 = 1\n",
      "cluster 13 = 1269\n",
      "cluster 14 = 21\n",
      "cluster 15 = 48\n",
      "cluster 16 = 94\n",
      "cluster 17 = 2\n",
      "cluster 18 = 1268\n",
      "cluster 19 = 227\n",
      "cluster 20 = 257\n",
      "cluster 21 = 2737\n",
      "cluster 22 = 4082\n",
      "cluster 23 = 17\n",
      "cluster 24 = 31\n",
      "cluster 25 = 59\n"
     ]
    }
   ],
   "source": [
    "# Almacenamos los indices de los datos por cluster\n",
    "\n",
    "clusters = []\n",
    "for i in range(k):\n",
    "    clusters += [[]]\n",
    "#     print('cluster '+str(i+1)+' = ' + str(count_num(i,df_labels)))\n",
    "for i in range(len(df_labels)):\n",
    "    x = df_labels[i]\n",
    "    clusters[x] += [i]\n",
    "for i in range(len(clusters)):\n",
    "    print('cluster '+str(i+1)+' = '+ str(len(clusters[i])))"
   ]
  },
  {
   "cell_type": "markdown",
   "metadata": {},
   "source": [
    "Bajo la noción de que los clusters con menos datos (digamos, menos de 100) son los más alejados de la aglomeración, podemos artificialmente arreglar los clusters para generar \"_tiers_\" con los datos de la siguiente forma:"
   ]
  },
  {
   "cell_type": "code",
   "execution_count": 7,
   "metadata": {},
   "outputs": [
    {
     "name": "stdout",
     "output_type": "stream",
     "text": [
      "cluster 1 = 1\n",
      "cluster 2 = 1\n",
      "cluster 3 = 2\n",
      "cluster 4 = 3\n",
      "cluster 5 = 11\n",
      "cluster 6 = 17\n",
      "cluster 7 = 21\n",
      "cluster 8 = 31\n",
      "cluster 9 = 48\n",
      "cluster 10 = 59\n",
      "cluster 11 = 82\n",
      "cluster 12 = 94\n",
      "cluster 13 = 26543\n"
     ]
    }
   ],
   "source": [
    "# enviamos todos los datos de clusters aglomerados a uno solo\n",
    "cluster_comunes = []\n",
    "for cl in list(clusters):\n",
    "    if len(cl)>=100:\n",
    "        cluster_comunes += cl\n",
    "        clusters.remove(cl)\n",
    "# creamos nuestro arreglo de clusters (lista de listas)\n",
    "clusters_tier = []\n",
    "# vamos agregando clusters de acuerdo a la cantidad de datos que contienen\n",
    "# es vulnerable a colocar en desorden clusters del mismo tamaño\n",
    "# pero no se espera que sea común fuera de los primeros lugares\n",
    "for i in range(100):\n",
    "    for j in clusters:\n",
    "        if len(j)==i:\n",
    "            clusters_tier += [j]\n",
    "# agregamos al final el cluster del aglomerado\n",
    "clusters_tier += [cluster_comunes]\n",
    "for i in range(len(clusters_tier)):\n",
    "    print('cluster '+str(i+1)+' = '+ str(len(clusters_tier[i])))"
   ]
  },
  {
   "cell_type": "code",
   "execution_count": 19,
   "metadata": {},
   "outputs": [
    {
     "name": "stdout",
     "output_type": "stream",
     "text": [
      "Juegos del cluster 1:\n"
     ]
    },
    {
     "data": {
      "text/plain": [
       "25    Counter-Strike: Global Offensive\n",
       "Name: name, dtype: object"
      ]
     },
     "execution_count": 19,
     "metadata": {},
     "output_type": "execute_result"
    }
   ],
   "source": [
    "print(\"Juegos del cluster 1:\")\n",
    "df.iloc[clusters_tier[0],1]"
   ]
  },
  {
   "cell_type": "code",
   "execution_count": 20,
   "metadata": {},
   "outputs": [
    {
     "name": "stdout",
     "output_type": "stream",
     "text": [
      "Juegos del cluster 2:\n"
     ]
    },
    {
     "data": {
      "text/plain": [
       "22    Dota 2\n",
       "Name: name, dtype: object"
      ]
     },
     "execution_count": 20,
     "metadata": {},
     "output_type": "execute_result"
    }
   ],
   "source": [
    "print(\"Juegos del cluster 2:\")\n",
    "df.iloc[clusters_tier[1],1]"
   ]
  },
  {
   "cell_type": "code",
   "execution_count": 21,
   "metadata": {},
   "outputs": [
    {
     "name": "stdout",
     "output_type": "stream",
     "text": [
      "Juegos del cluster 3:\n"
     ]
    },
    {
     "data": {
      "text/plain": [
       "19                     Team Fortress 2\n",
       "12746    PLAYERUNKNOWN'S BATTLEGROUNDS\n",
       "Name: name, dtype: object"
      ]
     },
     "execution_count": 21,
     "metadata": {},
     "output_type": "execute_result"
    }
   ],
   "source": [
    "print(\"Juegos del cluster 3:\")\n",
    "df.iloc[clusters_tier[2],1]"
   ]
  },
  {
   "cell_type": "code",
   "execution_count": 22,
   "metadata": {},
   "outputs": [
    {
     "name": "stdout",
     "output_type": "stream",
     "text": [
      "Juegos del cluster 4:\n"
     ]
    },
    {
     "data": {
      "text/plain": [
       "120     Garry's Mod\n",
       "1630       Warframe\n",
       "3333       Unturned\n",
       "Name: name, dtype: object"
      ]
     },
     "execution_count": 22,
     "metadata": {},
     "output_type": "execute_result"
    }
   ],
   "source": [
    "print(\"Juegos del cluster 4:\")\n",
    "df.iloc[clusters_tier[3],1]"
   ]
  },
  {
   "cell_type": "code",
   "execution_count": 23,
   "metadata": {},
   "outputs": [
    {
     "name": "stdout",
     "output_type": "stream",
     "text": [
      "Juegos del cluster 5:\n"
     ]
    },
    {
     "data": {
      "text/plain": [
       "0                        Counter-Strike\n",
       "21                        Left 4 Dead 2\n",
       "23                             Portal 2\n",
       "1024        The Elder Scrolls V: Skyrim\n",
       "1118                           Terraria\n",
       "1464                           PAYDAY 2\n",
       "2022                     Rocket League®\n",
       "2456                 Grand Theft Auto V\n",
       "2937          The Witcher® 3: Wild Hunt\n",
       "5198    Tom Clancy's Rainbow Six® Siege\n",
       "8069                          Paladins®\n",
       "Name: name, dtype: object"
      ]
     },
     "execution_count": 23,
     "metadata": {},
     "output_type": "execute_result"
    }
   ],
   "source": [
    "print(\"Juegos del cluster 5:\")\n",
    "df.iloc[clusters_tier[4],1]"
   ]
  },
  {
   "cell_type": "code",
   "execution_count": 24,
   "metadata": {},
   "outputs": [
    {
     "name": "stdout",
     "output_type": "stream",
     "text": [
      "Juegos del cluster 6:\n"
     ]
    },
    {
     "data": {
      "text/plain": [
       "7       Counter-Strike: Condition Zero\n",
       "9                          Half-Life 2\n",
       "10              Counter-Strike: Source\n",
       "13             Half-Life 2: Deathmatch\n",
       "14             Half-Life 2: Lost Coast\n",
       "17                              Portal\n",
       "221        Sid Meier's Civilization® V\n",
       "902                      Borderlands 2\n",
       "1213                       Tomb Raider\n",
       "1592            Euro Truck Simulator 2\n",
       "1603                 Heroes & Generals\n",
       "1721                       War Thunder\n",
       "1766                     Path of Exile\n",
       "2007                              Rust\n",
       "2924                           Warface\n",
       "2925                        Brawlhalla\n",
       "3223                         Robocraft\n",
       "3755       Life is Strange - Episode 1\n",
       "3834             Don't Starve Together\n",
       "6003                  Dead by Daylight\n",
       "7752                  Z1 Battle Royale\n",
       "Name: name, dtype: object"
      ]
     },
     "execution_count": 24,
     "metadata": {},
     "output_type": "execute_result"
    }
   ],
   "source": [
    "print(\"Juegos del cluster 6:\")\n",
    "df.iloc[clusters_tier[5],1]"
   ]
  },
  {
   "cell_type": "markdown",
   "metadata": {},
   "source": [
    "Observando estas categorías y teniendo en cuenta nuestro conocimiento general sobre videojuegos, podemos decir que este algoritmo de clustering es bastante acertado al agrupar a los juegos más populares. Sin embargo, vale la pena probar distintos métodos de clustering. "
   ]
  },
  {
   "cell_type": "markdown",
   "metadata": {},
   "source": [
    "### Experimento 4: (DBSCAN)\n",
    "\n",
    "Usaremos el método de clustering DBSCAN en esta ocasión, aunque no esperamos resultados muy positivos ya que ahora no podemos manipular directamente la cantidad de clusters que obtendremos y tendremos problemas al aplicar nuestra estrategia. Pero aun así, vale la pena intentarlo."
   ]
  },
  {
   "cell_type": "markdown",
   "metadata": {},
   "source": [
    "**1. Normalización de los datos** "
   ]
  },
  {
   "cell_type": "code",
   "execution_count": 32,
   "metadata": {},
   "outputs": [
    {
     "data": {
      "text/html": [
       "<div>\n",
       "<style scoped>\n",
       "    .dataframe tbody tr th:only-of-type {\n",
       "        vertical-align: middle;\n",
       "    }\n",
       "\n",
       "    .dataframe tbody tr th {\n",
       "        vertical-align: top;\n",
       "    }\n",
       "\n",
       "    .dataframe thead th {\n",
       "        text-align: right;\n",
       "    }\n",
       "</style>\n",
       "<table border=\"1\" class=\"dataframe\">\n",
       "  <thead>\n",
       "    <tr style=\"text-align: right;\">\n",
       "      <th></th>\n",
       "      <th>price</th>\n",
       "      <th>duenos_promedio</th>\n",
       "      <th>rating_neto</th>\n",
       "      <th>rating_perc</th>\n",
       "    </tr>\n",
       "  </thead>\n",
       "  <tbody>\n",
       "    <tr>\n",
       "      <th>0</th>\n",
       "      <td>0.190166</td>\n",
       "      <td>11.167003</td>\n",
       "      <td>7.522544</td>\n",
       "      <td>1.110130</td>\n",
       "    </tr>\n",
       "    <tr>\n",
       "      <th>1</th>\n",
       "      <td>-0.303575</td>\n",
       "      <td>5.533092</td>\n",
       "      <td>0.118359</td>\n",
       "      <td>0.536096</td>\n",
       "    </tr>\n",
       "    <tr>\n",
       "      <th>2</th>\n",
       "      <td>-0.303575</td>\n",
       "      <td>5.533092</td>\n",
       "      <td>0.139164</td>\n",
       "      <td>0.775212</td>\n",
       "    </tr>\n",
       "    <tr>\n",
       "      <th>3</th>\n",
       "      <td>-0.303575</td>\n",
       "      <td>5.533092</td>\n",
       "      <td>0.013460</td>\n",
       "      <td>0.479746</td>\n",
       "    </tr>\n",
       "    <tr>\n",
       "      <th>4</th>\n",
       "      <td>-0.303575</td>\n",
       "      <td>5.533092</td>\n",
       "      <td>0.260620</td>\n",
       "      <td>0.999294</td>\n",
       "    </tr>\n",
       "  </tbody>\n",
       "</table>\n",
       "</div>"
      ],
      "text/plain": [
       "      price  duenos_promedio  rating_neto  rating_perc\n",
       "0  0.190166        11.167003     7.522544     1.110130\n",
       "1 -0.303575         5.533092     0.118359     0.536096\n",
       "2 -0.303575         5.533092     0.139164     0.775212\n",
       "3 -0.303575         5.533092     0.013460     0.479746\n",
       "4 -0.303575         5.533092     0.260620     0.999294"
      ]
     },
     "execution_count": 32,
     "metadata": {},
     "output_type": "execute_result"
    }
   ],
   "source": [
    "# Z-score (standardization) = x - mean(x) / std(x)\n",
    "\n",
    "df_numeric = df[[\"price\",\"duenos_promedio\",\"rating_neto\",\"rating_perc\"]]\n",
    "df_numeric =(df_numeric-df_numeric.mean())/df_numeric.std()\n",
    "df_numeric.head()"
   ]
  },
  {
   "cell_type": "markdown",
   "metadata": {},
   "source": [
    "**2. Obtener parámetros _eps_ y _min samples_**"
   ]
  },
  {
   "cell_type": "code",
   "execution_count": 33,
   "metadata": {},
   "outputs": [
    {
     "data": {
      "image/png": "[encoded data removed]",
      "text/plain": [
       "<Figure size 432x288 with 1 Axes>"
      ]
     },
     "metadata": {
      "needs_background": "light"
     },
     "output_type": "display_data"
    },
    {
     "data": {
      "image/png": "[encoded data removed]",
      "text/plain": [
       "<Figure size 432x288 with 1 Axes>"
      ]
     },
     "metadata": {
      "needs_background": "light"
     },
     "output_type": "display_data"
    }
   ],
   "source": [
    "from sklearn.neighbors import NearestNeighbors\n",
    "\n",
    "neigh = 3\n",
    "\n",
    "nbrs = NearestNeighbors(n_neighbors=neigh).fit(df_numeric)\n",
    "distances, indices = nbrs.kneighbors(df_numeric)\n",
    "\n",
    "distances = np.sort(distances, axis=0)\n",
    "distances = distances[:,1]\n",
    "plt.title(f\"datos vs distancia promedio a {neigh} vecinos\")\n",
    "plt.plot(distances)\n",
    "plt.show()\n",
    "\n",
    "# lmao, hacemos zoom al codo\n",
    "plt.title(\"zoom al codo, y = 0.4\")\n",
    "plt.plot(distances)\n",
    "plt.xlim(26000, 27000)\n",
    "plt.ylim(0, 1)\n",
    "plt.axhline(y=0.35, color='r', linestyle='--')\n",
    "plt.show()"
   ]
  },
  {
   "cell_type": "markdown",
   "metadata": {},
   "source": [
    "**3. Reducción de dimensiones y aplicar algoritmo**"
   ]
  },
  {
   "cell_type": "code",
   "execution_count": 34,
   "metadata": {},
   "outputs": [
    {
     "data": {
      "image/png": "[encoded data removed]",
      "text/plain": [
       "<Figure size 432x288 with 1 Axes>"
      ]
     },
     "metadata": {
      "needs_background": "light"
     },
     "output_type": "display_data"
    },
    {
     "data": {
      "image/png": "[encoded data removed]",
      "text/plain": [
       "<Figure size 432x288 with 1 Axes>"
      ]
     },
     "metadata": {
      "needs_background": "light"
     },
     "output_type": "display_data"
    },
    {
     "data": {
      "image/png": "[encoded data removed]",
      "text/plain": [
       "<Figure size 432x288 with 1 Axes>"
      ]
     },
     "metadata": {
      "needs_background": "light"
     },
     "output_type": "display_data"
    }
   ],
   "source": [
    "from sklearn.cluster import DBSCAN\n",
    "\n",
    "new_df_numeric = PCA(n_components=2, random_state=0).fit_transform(df_numeric.values)\n",
    "\n",
    "eps = 0.4\n",
    "min_samples = 3\n",
    "\n",
    "dbscan = DBSCAN(eps=eps, min_samples=min_samples).fit(new_df_numeric)\n",
    "plt.scatter(new_df_numeric[:,0], new_df_numeric[:,1], c=dbscan.labels_)\n",
    "plt.title(f\"DBSCAN: eps={eps}, min_samples={min_samples}\")\n",
    "plt.show()\n",
    "\n",
    "plt.scatter(new_df_numeric[:,0], new_df_numeric[:,1], c=dbscan.labels_)\n",
    "plt.title(\"zoom (sin CS:GO ; sin Dota 2)\")\n",
    "plt.xlim(-2, 42)\n",
    "plt.ylim(-9, 6)\n",
    "plt.show()\n",
    "\n",
    "plt.scatter(new_df_numeric[:,0], new_df_numeric[:,1], c=dbscan.labels_)\n",
    "plt.title(\"zoom (aglomerado)\")\n",
    "plt.xlim(-0.6, 6)\n",
    "plt.ylim(-9, 3.1)\n",
    "plt.show()"
   ]
  },
  {
   "cell_type": "markdown",
   "metadata": {},
   "source": [
    "**4. Resultados y observaciones**"
   ]
  },
  {
   "cell_type": "code",
   "execution_count": 36,
   "metadata": {},
   "outputs": [
    {
     "name": "stdout",
     "output_type": "stream",
     "text": [
      "total clusters: 7\n",
      "datos ruido: 70\n",
      "\n",
      "cluster 1 = 14\n",
      "cluster 2 = 26805\n",
      "cluster 3 = 3\n",
      "cluster 4 = 7\n",
      "cluster 5 = 3\n",
      "cluster 6 = 7\n",
      "cluster 7 = 4\n"
     ]
    }
   ],
   "source": [
    "df_labels = dbscan.labels_\n",
    "n_clusters = len(set(df_labels)) - (1 if -1 in df_labels else 0)\n",
    "n_noise = list(df_labels).count(-1)\n",
    "print(\"total clusters: \"+str(n_clusters))\n",
    "print(\"datos ruido: \"+str(n_noise))\n",
    "print(\"\")\n",
    "for i in range(n_clusters):\n",
    "    print('cluster '+str(i+1)+' = ' + str(count_num(i,df_labels)))"
   ]
  },
  {
   "cell_type": "code",
   "execution_count": 37,
   "metadata": {},
   "outputs": [
    {
     "name": "stdout",
     "output_type": "stream",
     "text": [
      "Juegos del 1er cluster\n"
     ]
    },
    {
     "data": {
      "text/plain": [
       "1               Team Fortress Classic\n",
       "2                       Day of Defeat\n",
       "3                  Deathmatch Classic\n",
       "4           Half-Life: Opposing Force\n",
       "5                            Ricochet\n",
       "8               Half-Life: Blue Shift\n",
       "12              Day of Defeat: Source\n",
       "16           Half-Life 2: Episode One\n",
       "18           Half-Life 2: Episode Two\n",
       "20                        Left 4 Dead\n",
       "481                Fallout: New Vegas\n",
       "1373                        Starbound\n",
       "1954    The Binding of Isaac: Rebirth\n",
       "2579           A Story About My Uncle\n",
       "Name: name, dtype: object"
      ]
     },
     "execution_count": 37,
     "metadata": {},
     "output_type": "execute_result"
    }
   ],
   "source": [
    "print(\"Juegos del 1er cluster\")\n",
    "juegos = []\n",
    "for i in range(len(df_labels)):\n",
    "    if df_labels[i]+1 == 1:\n",
    "        juegos.append(i)\n",
    "df.iloc[juegos,1]"
   ]
  },
  {
   "cell_type": "code",
   "execution_count": 38,
   "metadata": {},
   "outputs": [
    {
     "name": "stdout",
     "output_type": "stream",
     "text": [
      "Juegos del 3er cluster\n"
     ]
    },
    {
     "data": {
      "text/plain": [
       "218                   BioShock Infinite\n",
       "257    Call of Duty®: Modern Warfare® 2\n",
       "894              Mount & Blade: Warband\n",
       "Name: name, dtype: object"
      ]
     },
     "execution_count": 38,
     "metadata": {},
     "output_type": "execute_result"
    }
   ],
   "source": [
    "print(\"Juegos del 3er cluster\")\n",
    "juegos = []\n",
    "for i in range(len(df_labels)):\n",
    "    if df_labels[i]+1 == 3:\n",
    "        juegos.append(i)\n",
    "df.iloc[juegos,1]"
   ]
  },
  {
   "cell_type": "code",
   "execution_count": 39,
   "metadata": {},
   "outputs": [
    {
     "name": "stdout",
     "output_type": "stream",
     "text": [
      "Juegos del 4to cluster\n"
     ]
    },
    {
     "data": {
      "text/plain": [
       "1461             PlanetSide 2\n",
       "1543     No More Room in Hell\n",
       "3311                    Trove\n",
       "4188              Dirty Bomb®\n",
       "5352           Clicker Heroes\n",
       "6195                   SMITE®\n",
       "11704             Black Squad\n",
       "Name: name, dtype: object"
      ]
     },
     "execution_count": 39,
     "metadata": {},
     "output_type": "execute_result"
    }
   ],
   "source": [
    "print(\"Juegos del 4to cluster\")\n",
    "juegos = []\n",
    "for i in range(len(df_labels)):\n",
    "    if df_labels[i]+1 == 4:\n",
    "        juegos.append(i)\n",
    "df.iloc[juegos,1]"
   ]
  },
  {
   "cell_type": "code",
   "execution_count": 40,
   "metadata": {},
   "outputs": [
    {
     "name": "stdout",
     "output_type": "stream",
     "text": [
      "Juegos del 5to cluster\n"
     ]
    },
    {
     "data": {
      "text/plain": [
       "1721      War Thunder\n",
       "1766    Path of Exile\n",
       "2925       Brawlhalla\n",
       "Name: name, dtype: object"
      ]
     },
     "execution_count": 40,
     "metadata": {},
     "output_type": "execute_result"
    }
   ],
   "source": [
    "print(\"Juegos del 5to cluster\")\n",
    "juegos = []\n",
    "for i in range(len(df_labels)):\n",
    "    if df_labels[i]+1 == 5:\n",
    "        juegos.append(i)\n",
    "df.iloc[juegos,1]"
   ]
  },
  {
   "cell_type": "code",
   "execution_count": 41,
   "metadata": {},
   "outputs": [
    {
     "name": "stdout",
     "output_type": "stream",
     "text": [
      "Juegos del 6to cluster\n"
     ]
    },
    {
     "data": {
      "text/plain": [
       "3806           Command: Modern Air / Naval Operations WOTY\n",
       "5630                        Gary Grigsby's War in the East\n",
       "9226         Crazy Stone Deep Learning -The First Edition-\n",
       "12124                                          Emission VR\n",
       "14723                       Gary Grigsby's War in the West\n",
       "18149    <U+6700><U+5F37><U+306E><U+56F2><U+7881> ~<U+5...\n",
       "23564                                          Cine Tracer\n",
       "Name: name, dtype: object"
      ]
     },
     "execution_count": 41,
     "metadata": {},
     "output_type": "execute_result"
    }
   ],
   "source": [
    "print(\"Juegos del 6to cluster\")\n",
    "juegos = []\n",
    "for i in range(len(df_labels)):\n",
    "    if df_labels[i]+1 == 6:\n",
    "        juegos.append(i)\n",
    "df.iloc[juegos,1]"
   ]
  },
  {
   "cell_type": "code",
   "execution_count": 42,
   "metadata": {},
   "outputs": [
    {
     "name": "stdout",
     "output_type": "stream",
     "text": [
      "Juegos del 7mo cluster\n"
     ]
    },
    {
     "data": {
      "text/plain": [
       "12878           Assassin's Creed® Origins\n",
       "13509                     Devil May Cry 5\n",
       "20633           Assassin's Creed® Odyssey\n",
       "22987    RESIDENT EVIL 2 / BIOHAZARD RE:2\n",
       "Name: name, dtype: object"
      ]
     },
     "execution_count": 42,
     "metadata": {},
     "output_type": "execute_result"
    }
   ],
   "source": [
    "print(\"Juegos del 7mo cluster\")\n",
    "juegos = []\n",
    "for i in range(len(df_labels)):\n",
    "    if df_labels[i]+1 == 7:\n",
    "        juegos.append(i)\n",
    "df.iloc[juegos,1]"
   ]
  },
  {
   "cell_type": "markdown",
   "metadata": {},
   "source": [
    "DBSCANS claramente no es un método de clustering que nos sirva para nuestra exploración, ya que la mayoría de los datos en el dataset original son poco relevantes y se encuentran aglomerados, generando un cluster dominante. Esto en sí no es mucho problema, es más, uno pensaría que equivale al paso en nuestra estrategia de juntar los clusters poco relevantes, sin embargo esto implica que una gran cantidad de los datos de juegos más relevantes (como CS:GO y Dota 2) son catalogados como ruido (Noise Points) ya que se encuentran a una gran distancia entre ellos en comparación a los datos del aglomerado.\n",
    "\n",
    "Esto es culpa de la naturaleza del algoritmo mismo. Si observamos el gráfico en la parte **2.** de este experimento, lo que sucede es que los datos a la derecha del punto de inflexión corresponden a los juegos de interés, aquellos que componen las _tiers_ más altas del experimento anterior. Por esto, este algoritmo no nos resultó útil para obtener agrupaciones definidas y significativas de los datos del dataset.  "
   ]
  },
  {
   "cell_type": "markdown",
   "metadata": {},
   "source": [
    "## Resultados preeliminares\n",
    "\n",
    "Pudimos llegar en el experimento 3 de clustering a una división del dataset en clusters de interés, básicamente separando a los juegos más exitosos en un sistema de _tiers_ ordenadas de acuerdo a la popularidad de los juegos con cierta precisión. \n",
    "\n",
    "Para evaluar este clustering nos basamos exclusivamente en nuestros conocimientos previos sobre los juegos en vez de usar métodos numéricos, porque lo que buscamos principalmente es categorizar los juegos más populares para observar sus atributos no-numéricos y atribuirle a los datos una variable _target_ para generar una clasificación predictiva."
   ]
  },
  {
   "cell_type": "code",
   "execution_count": 8,
   "metadata": {},
   "outputs": [
    {
     "data": {
      "text/html": [
       "<div>\n",
       "<style scoped>\n",
       "    .dataframe tbody tr th:only-of-type {\n",
       "        vertical-align: middle;\n",
       "    }\n",
       "\n",
       "    .dataframe tbody tr th {\n",
       "        vertical-align: top;\n",
       "    }\n",
       "\n",
       "    .dataframe thead th {\n",
       "        text-align: right;\n",
       "    }\n",
       "</style>\n",
       "<table border=\"1\" class=\"dataframe\">\n",
       "  <thead>\n",
       "    <tr style=\"text-align: right;\">\n",
       "      <th></th>\n",
       "      <th>appid</th>\n",
       "      <th>name</th>\n",
       "      <th>developer</th>\n",
       "      <th>publisher</th>\n",
       "      <th>price</th>\n",
       "      <th>year</th>\n",
       "      <th>duenos_promedio</th>\n",
       "      <th>rating_neto</th>\n",
       "      <th>rating_perc</th>\n",
       "      <th>Action</th>\n",
       "      <th>...</th>\n",
       "      <th>Simulation</th>\n",
       "      <th>Racing</th>\n",
       "      <th>Violent</th>\n",
       "      <th>Massively Multiplayer</th>\n",
       "      <th>Nudity</th>\n",
       "      <th>Sports</th>\n",
       "      <th>Early Access</th>\n",
       "      <th>Gore</th>\n",
       "      <th>Sexual Content</th>\n",
       "      <th>Target</th>\n",
       "    </tr>\n",
       "  </thead>\n",
       "  <tbody>\n",
       "    <tr>\n",
       "      <th>0</th>\n",
       "      <td>10</td>\n",
       "      <td>Counter-Strike</td>\n",
       "      <td>Valve</td>\n",
       "      <td>Valve</td>\n",
       "      <td>7801</td>\n",
       "      <td>2000</td>\n",
       "      <td>15000000.0</td>\n",
       "      <td>121195</td>\n",
       "      <td>0.973888</td>\n",
       "      <td>1</td>\n",
       "      <td>...</td>\n",
       "      <td>0</td>\n",
       "      <td>0</td>\n",
       "      <td>0</td>\n",
       "      <td>0</td>\n",
       "      <td>0</td>\n",
       "      <td>0</td>\n",
       "      <td>0</td>\n",
       "      <td>0</td>\n",
       "      <td>0</td>\n",
       "      <td>5</td>\n",
       "    </tr>\n",
       "    <tr>\n",
       "      <th>1</th>\n",
       "      <td>20</td>\n",
       "      <td>Team Fortress Classic</td>\n",
       "      <td>Valve</td>\n",
       "      <td>Valve</td>\n",
       "      <td>4329</td>\n",
       "      <td>1999</td>\n",
       "      <td>7500000.0</td>\n",
       "      <td>2685</td>\n",
       "      <td>0.839787</td>\n",
       "      <td>1</td>\n",
       "      <td>...</td>\n",
       "      <td>0</td>\n",
       "      <td>0</td>\n",
       "      <td>0</td>\n",
       "      <td>0</td>\n",
       "      <td>0</td>\n",
       "      <td>0</td>\n",
       "      <td>0</td>\n",
       "      <td>0</td>\n",
       "      <td>0</td>\n",
       "      <td>8</td>\n",
       "    </tr>\n",
       "    <tr>\n",
       "      <th>2</th>\n",
       "      <td>30</td>\n",
       "      <td>Day of Defeat</td>\n",
       "      <td>Valve</td>\n",
       "      <td>Valve</td>\n",
       "      <td>4329</td>\n",
       "      <td>2003</td>\n",
       "      <td>7500000.0</td>\n",
       "      <td>3018</td>\n",
       "      <td>0.895648</td>\n",
       "      <td>1</td>\n",
       "      <td>...</td>\n",
       "      <td>0</td>\n",
       "      <td>0</td>\n",
       "      <td>0</td>\n",
       "      <td>0</td>\n",
       "      <td>0</td>\n",
       "      <td>0</td>\n",
       "      <td>0</td>\n",
       "      <td>0</td>\n",
       "      <td>0</td>\n",
       "      <td>8</td>\n",
       "    </tr>\n",
       "    <tr>\n",
       "      <th>3</th>\n",
       "      <td>40</td>\n",
       "      <td>Deathmatch Classic</td>\n",
       "      <td>Valve</td>\n",
       "      <td>Valve</td>\n",
       "      <td>4329</td>\n",
       "      <td>2001</td>\n",
       "      <td>7500000.0</td>\n",
       "      <td>1006</td>\n",
       "      <td>0.826623</td>\n",
       "      <td>1</td>\n",
       "      <td>...</td>\n",
       "      <td>0</td>\n",
       "      <td>0</td>\n",
       "      <td>0</td>\n",
       "      <td>0</td>\n",
       "      <td>0</td>\n",
       "      <td>0</td>\n",
       "      <td>0</td>\n",
       "      <td>0</td>\n",
       "      <td>0</td>\n",
       "      <td>8</td>\n",
       "    </tr>\n",
       "    <tr>\n",
       "      <th>4</th>\n",
       "      <td>50</td>\n",
       "      <td>Half-Life: Opposing Force</td>\n",
       "      <td>Gearbox Software</td>\n",
       "      <td>Valve</td>\n",
       "      <td>4329</td>\n",
       "      <td>1999</td>\n",
       "      <td>7500000.0</td>\n",
       "      <td>4962</td>\n",
       "      <td>0.947996</td>\n",
       "      <td>1</td>\n",
       "      <td>...</td>\n",
       "      <td>0</td>\n",
       "      <td>0</td>\n",
       "      <td>0</td>\n",
       "      <td>0</td>\n",
       "      <td>0</td>\n",
       "      <td>0</td>\n",
       "      <td>0</td>\n",
       "      <td>0</td>\n",
       "      <td>0</td>\n",
       "      <td>8</td>\n",
       "    </tr>\n",
       "  </tbody>\n",
       "</table>\n",
       "<p>5 rows × 26 columns</p>\n",
       "</div>"
      ],
      "text/plain": [
       "   appid                       name         developer publisher  price  year  \\\n",
       "0     10             Counter-Strike             Valve     Valve   7801  2000   \n",
       "1     20      Team Fortress Classic             Valve     Valve   4329  1999   \n",
       "2     30              Day of Defeat             Valve     Valve   4329  2003   \n",
       "3     40         Deathmatch Classic             Valve     Valve   4329  2001   \n",
       "4     50  Half-Life: Opposing Force  Gearbox Software     Valve   4329  1999   \n",
       "\n",
       "   duenos_promedio  rating_neto  rating_perc  Action  ...  Simulation  Racing  \\\n",
       "0       15000000.0       121195     0.973888       1  ...           0       0   \n",
       "1        7500000.0         2685     0.839787       1  ...           0       0   \n",
       "2        7500000.0         3018     0.895648       1  ...           0       0   \n",
       "3        7500000.0         1006     0.826623       1  ...           0       0   \n",
       "4        7500000.0         4962     0.947996       1  ...           0       0   \n",
       "\n",
       "   Violent  Massively Multiplayer  Nudity  Sports  Early Access  Gore  \\\n",
       "0        0                      0       0       0             0     0   \n",
       "1        0                      0       0       0             0     0   \n",
       "2        0                      0       0       0             0     0   \n",
       "3        0                      0       0       0             0     0   \n",
       "4        0                      0       0       0             0     0   \n",
       "\n",
       "   Sexual Content  Target  \n",
       "0               0       5  \n",
       "1               0       8  \n",
       "2               0       8  \n",
       "3               0       8  \n",
       "4               0       8  \n",
       "\n",
       "[5 rows x 26 columns]"
      ]
     },
     "execution_count": 8,
     "metadata": {},
     "output_type": "execute_result"
    }
   ],
   "source": [
    "target = np.zeros(len(df.index), dtype=np.int8)\n",
    "\n",
    "for i in range(len(clusters_tier)-1):\n",
    "    for j in clusters_tier[i]:\n",
    "        if i==1:\n",
    "            target[j] = 1\n",
    "        else:\n",
    "            target[j] = i+1\n",
    "\n",
    "dfT = df.copy()\n",
    "dfT[\"Target\"] = target\n",
    "\n",
    "dfT.head()"
   ]
  },
  {
   "cell_type": "code",
   "execution_count": 6,
   "metadata": {},
   "outputs": [],
   "source": [
    "# USAR Y BORRAR PARA INFORME FINAL\n",
    "\n",
    "import pandas as pd\n",
    "import numpy as np\n",
    "df_aux = pd.read_csv('https://raw.githubusercontent.com/SoraSpace769/CC5206_steam_games/GMatamoro/data/steam_target.csv')\n",
    "df_aux.drop(df_aux.columns[0], axis=1, inplace=True)\n",
    "\n",
    "target = df_aux[\"Target\"]"
   ]
  },
  {
   "cell_type": "markdown",
   "metadata": {},
   "source": [
    "Por ejemplo, podemos observar los distintos géneros de videojuegos y su frecuenicia entre los juegos más populares. También se pueden comparar estos resultados con el dataset completo y con la evolución de estos géneros en el tiempo. \n",
    "\n",
    "Además, se pueden analizar los datos más comunes para _\"developer\"_ y _\"publisher\"_ y comparar estos valores con el resto del dataset completo para ver si ciertos desarrolladores obtienen éxito consistentemente con sus juegos."
   ]
  },
  {
   "cell_type": "code",
   "execution_count": 4,
   "metadata": {},
   "outputs": [
    {
     "data": {
      "text/plain": [
       "Action                   253\n",
       "Free to Play              92\n",
       "Strategy                  65\n",
       "Adventure                108\n",
       "Indie                    117\n",
       "RPG                       81\n",
       "Casual                    35\n",
       "Simulation                63\n",
       "Racing                     9\n",
       "Violent                    4\n",
       "Massively Multiplayer     43\n",
       "Nudity                     4\n",
       "Sports                    11\n",
       "Early Access              15\n",
       "Gore                       3\n",
       "Sexual Content             3\n",
       "dtype: object"
      ]
     },
     "execution_count": 4,
     "metadata": {},
     "output_type": "execute_result"
    }
   ],
   "source": [
    "dfT.loc[dfT[\"Target\"] > 0].sum(axis = 0, skipna = True)[9:25]"
   ]
  },
  {
   "cell_type": "code",
   "execution_count": 13,
   "metadata": {},
   "outputs": [
    {
     "data": {
      "text/plain": [
       "Valve                                   23\n",
       "KOEI TECMO GAMES CO., LTD.              16\n",
       "Bethesda Game Studios                    5\n",
       "Bohemia Interactive                      4\n",
       "Paradox Development Studio               4\n",
       "                                        ..\n",
       "Landfall West                            1\n",
       "Supergiant Games                         1\n",
       "NantG                                    1\n",
       "FURYU Corporation;Engine Software BV     1\n",
       "Star Gem Inc.                            1\n",
       "Name: developer, Length: 281, dtype: int64"
      ]
     },
     "execution_count": 13,
     "metadata": {},
     "output_type": "execute_result"
    }
   ],
   "source": [
    "dfT[dfT[\"Target\"] > 0].developer.value_counts()"
   ]
  },
  {
   "cell_type": "markdown",
   "metadata": {},
   "source": [
    "## Determinar importancia de las variables\n",
    "\n",
    "Podemos usar los clusters obtenidos anteriormente como variable target en un algoritmo de clasificación, pero esto no parece una buena idea, ya que los clusters significativos son demasiado pequeños, incluso si separamos el dataset entre juegos no exitosos y exitosos estos últimos representarían apenas un 1% del total de entradas. Primero asignaremos la variable target a los datos de acuerdo a su tier, luego procederemos con distintos experimentos usando el método **Random Forests** para ordenar las variables que se usan para clasificar los datos de acuerdo a su importancia para el algoritmo.\n",
    "\n",
    "Los Random Forests tienen la funcionalidad adicional de calcular la importancia de las _features_ que utilizan para una clasificación o regresión dada; dado que son un conjunto de árboles de decisión, cada uno de ellos calcula la importancia de cierto nodo como la mejora que genera en la pureza, ponderada por la probabilidad de que una muestra llegue a ese nodo, y finalmente se promedia la importancia que tuvo en cada arbol para decidir la importancia en el bosque final."
   ]
  },
  {
   "cell_type": "markdown",
   "metadata": {},
   "source": [
    "### Experimento 1\n",
    "\n",
    "Usamos Random Forests sobre las variables numéricas (sin incluir `appid`)."
   ]
  },
  {
   "cell_type": "code",
   "execution_count": 11,
   "metadata": {},
   "outputs": [
    {
     "name": "stdout",
     "output_type": "stream",
     "text": [
      "              precision    recall  f1-score   support\n",
      "\n",
      "           0       1.00      1.00      1.00      7963\n",
      "           1       0.00      0.00      0.00         1\n",
      "           3       0.00      0.00      0.00         1\n",
      "           4       0.00      0.00      0.00         1\n",
      "           5       0.67      0.67      0.67         3\n",
      "           6       0.50      0.80      0.62         5\n",
      "           7       0.67      0.33      0.44         6\n",
      "           8       0.50      0.44      0.47         9\n",
      "           9       1.00      0.86      0.92        14\n",
      "          10       1.00      1.00      1.00        18\n",
      "          11       0.85      0.88      0.86        25\n",
      "          12       1.00      0.75      0.86        28\n",
      "\n",
      "    accuracy                           1.00      8074\n",
      "   macro avg       0.60      0.56      0.57      8074\n",
      "weighted avg       1.00      1.00      1.00      8074\n",
      "\n",
      "\t0.483 duenos_promedio\n",
      "\t0.242 price\n",
      "\t0.238 rating_neto\n",
      "\t0.038 rating_perc\n"
     ]
    },
    {
     "name": "stderr",
     "output_type": "stream",
     "text": [
      "C:\\Users\\GERMAN\\anaconda3\\lib\\site-packages\\sklearn\\metrics\\_classification.py:1221: UndefinedMetricWarning: Precision and F-score are ill-defined and being set to 0.0 in labels with no predicted samples. Use `zero_division` parameter to control this behavior.\n",
      "  _warn_prf(average, modifier, msg_start, len(result))\n"
     ]
    }
   ],
   "source": [
    "from sklearn.ensemble import RandomForestClassifier\n",
    "from sklearn.model_selection import train_test_split\n",
    "from sklearn.metrics import classification_report\n",
    "\n",
    "feature_names = [\"price\",\"duenos_promedio\",\"rating_neto\",\"rating_perc\"]\n",
    "X = df[feature_names]  \n",
    "y = target \n",
    "\n",
    "X_train, X_test, y_train, y_test = train_test_split(X, y, test_size=.3, stratify=y)\n",
    "\n",
    "clf1 = RandomForestClassifier(\n",
    "    n_estimators=30,\n",
    "    criterion='gini',\n",
    "    max_depth=5,\n",
    "    max_features='sqrt',\n",
    "    n_jobs=-1\n",
    ")\n",
    "clf1.fit(X_train, y_train)\n",
    "\n",
    "y_predicted = clf1.predict(X_test)\n",
    "\n",
    "print(classification_report(y_test, y_predicted))\n",
    "\n",
    "feature_importances = clf1.feature_importances_\n",
    "\n",
    "order = np.argsort(-feature_importances)\n",
    "\n",
    "for index in order:\n",
    "    print('\\t%.3f %s' % (feature_importances[index], feature_names[index]))"
   ]
  },
  {
   "cell_type": "markdown",
   "metadata": {},
   "source": [
    "### Experimento 2\n",
    "\n",
    "Usamos Random Forests sobre todas las variables numéricas (sin incluir `appid`) y variables dummy del dataset."
   ]
  },
  {
   "cell_type": "code",
   "execution_count": 12,
   "metadata": {},
   "outputs": [
    {
     "name": "stdout",
     "output_type": "stream",
     "text": [
      "              precision    recall  f1-score   support\n",
      "\n",
      "           0       1.00      1.00      1.00      7963\n",
      "           1       0.00      0.00      0.00         1\n",
      "           3       0.00      0.00      0.00         1\n",
      "           4       0.00      0.00      0.00         1\n",
      "           5       0.00      0.00      0.00         3\n",
      "           6       0.00      0.00      0.00         5\n",
      "           7       0.33      0.17      0.22         6\n",
      "           8       1.00      0.22      0.36         9\n",
      "           9       0.92      0.79      0.85        14\n",
      "          10       0.67      0.11      0.19        18\n",
      "          11       0.48      0.56      0.52        25\n",
      "          12       0.72      0.64      0.68        28\n",
      "\n",
      "    accuracy                           0.99      8074\n",
      "   macro avg       0.43      0.29      0.32      8074\n",
      "weighted avg       0.99      0.99      0.99      8074\n",
      "\n",
      "\t0.430 duenos_promedio\n",
      "\t0.262 rating_neto\n",
      "\t0.186 price\n",
      "\t0.043 year\n",
      "\t0.027 rating_perc\n",
      "\t0.020 Free to Play\n",
      "\t0.005 Indie\n",
      "\t0.005 Action\n",
      "\t0.004 RPG\n",
      "\t0.003 Strategy\n",
      "\t0.003 Adventure\n",
      "\t0.003 Simulation\n",
      "\t0.003 Massively Multiplayer\n",
      "\t0.002 Sports\n",
      "\t0.002 Casual\n",
      "\t0.001 Racing\n",
      "\t0.001 Violent\n",
      "\t0.001 Nudity\n",
      "\t0.000 Early Access\n",
      "\t0.000 Gore\n",
      "\t0.000 Sexual Content\n"
     ]
    },
    {
     "name": "stderr",
     "output_type": "stream",
     "text": [
      "C:\\Users\\GERMAN\\anaconda3\\lib\\site-packages\\sklearn\\metrics\\_classification.py:1221: UndefinedMetricWarning: Precision and F-score are ill-defined and being set to 0.0 in labels with no predicted samples. Use `zero_division` parameter to control this behavior.\n",
      "  _warn_prf(average, modifier, msg_start, len(result))\n"
     ]
    }
   ],
   "source": [
    "feature_names = [\"price\",\"year\",\"duenos_promedio\",\"rating_neto\",\"rating_perc\",'Action',\n",
    "       'Free to Play', 'Strategy', 'Adventure', 'Indie', 'RPG', 'Casual',\n",
    "       'Simulation', 'Racing', 'Violent', 'Massively Multiplayer', 'Nudity',\n",
    "       'Sports', 'Early Access', 'Gore', 'Sexual Content']\n",
    "\n",
    "X = df[feature_names]\n",
    "y = target \n",
    "\n",
    "X_train, X_test, y_train, y_test = train_test_split(X, y, test_size=.3, stratify=y)\n",
    "\n",
    "clf2 = RandomForestClassifier(\n",
    "    n_estimators=30,\n",
    "    criterion='gini',\n",
    "    max_depth=5,\n",
    "    max_features='sqrt',\n",
    "    n_jobs=-1\n",
    ")\n",
    "clf2.fit(X_train, y_train)\n",
    "\n",
    "y_predicted = clf2.predict(X_test)\n",
    "\n",
    "print(classification_report(y_test, y_predicted))\n",
    "\n",
    "feature_importances = clf2.feature_importances_\n",
    "\n",
    "order = np.argsort(-feature_importances)\n",
    "\n",
    "for index in order:\n",
    "    print('\\t%.3f %s' % (feature_importances[index], feature_names[index]))"
   ]
  },
  {
   "cell_type": "markdown",
   "metadata": {},
   "source": [
    "### Experimento 3\n",
    "\n",
    "Usamos Random Forests sobre las variables numéricas (sin incluir `appid`). Además aplicamos **subsampling** sobre la clase mayoritaria de juegos no exitosos."
   ]
  },
  {
   "cell_type": "code",
   "execution_count": 13,
   "metadata": {},
   "outputs": [
    {
     "name": "stdout",
     "output_type": "stream",
     "text": [
      "[  2.   0.   2.   3.  11.  17.  21.  31.  48.  59. 182.]\n",
      "              precision    recall  f1-score   support\n",
      "\n",
      "           0       1.00      0.97      0.98        30\n",
      "           1       0.00      0.00      0.00         1\n",
      "           3       0.00      0.00      0.00         1\n",
      "           4       0.00      0.00      0.00         1\n",
      "           5       0.67      0.67      0.67         3\n",
      "           6       0.40      0.40      0.40         5\n",
      "           7       0.75      1.00      0.86         6\n",
      "           8       0.86      0.67      0.75         9\n",
      "           9       0.93      1.00      0.97        14\n",
      "          10       0.94      0.89      0.91        18\n",
      "          11       0.93      1.00      0.96        25\n",
      "\n",
      "    accuracy                           0.88       113\n",
      "   macro avg       0.59      0.60      0.59       113\n",
      "weighted avg       0.88      0.88      0.88       113\n",
      "\n",
      "\t0.348 price\n",
      "\t0.329 duenos_promedio\n",
      "\t0.276 rating_neto\n",
      "\t0.047 rating_perc\n"
     ]
    },
    {
     "name": "stderr",
     "output_type": "stream",
     "text": [
      "C:\\Users\\GERMAN\\anaconda3\\lib\\site-packages\\sklearn\\metrics\\_classification.py:1221: UndefinedMetricWarning: Precision and F-score are ill-defined and being set to 0.0 in labels with no predicted samples. Use `zero_division` parameter to control this behavior.\n",
      "  _warn_prf(average, modifier, msg_start, len(result))\n"
     ]
    }
   ],
   "source": [
    "from sklearn.utils import resample\n",
    "\n",
    "feature_names = [\"price\",\"duenos_promedio\",\"rating_neto\",\"rating_perc\"]\n",
    "X = df[feature_names]  \n",
    "y = target  \n",
    "\n",
    "X_sampled, Y_sampled = resample(X[y==0], y[y==0], random_state=3, n_samples= 100)\n",
    "\n",
    "for i in range(1,12):\n",
    "        X_i, Y_i = X[y==i], y[y==i]\n",
    "        X_sampled = np.vstack((X_sampled, X_i))\n",
    "        Y_sampled = np.hstack((Y_sampled, Y_i))\n",
    "\n",
    "def dense_to_one_hot(dense):\n",
    "    a = np.zeros((len(dense), int(np.max(dense))))\n",
    "    a[np.arange(len(dense)), dense-1] = 1\n",
    "    return a\n",
    "\n",
    "Y_sampled_one_hot = dense_to_one_hot(Y_sampled)\n",
    "print(Y_sampled_one_hot.sum(axis=0))\n",
    "\n",
    "X_train, X_test, y_train, y_test = train_test_split(X_sampled, Y_sampled, train_size=0.7, stratify=Y_sampled)\n",
    "\n",
    "clf3 = RandomForestClassifier(\n",
    "    n_estimators=30,\n",
    "    criterion='gini',\n",
    "    max_depth=5,\n",
    "    max_features='sqrt',\n",
    "    n_jobs=-1\n",
    ")\n",
    "clf3.fit(X_train, y_train)\n",
    "\n",
    "y_predicted = clf3.predict(X_test)\n",
    "\n",
    "print(classification_report(y_test, y_predicted))\n",
    "\n",
    "feature_importances = clf3.feature_importances_\n",
    "\n",
    "order = np.argsort(-feature_importances)\n",
    "\n",
    "for index in order:\n",
    "    print('\\t%.3f %s' % (feature_importances[index], feature_names[index]))"
   ]
  },
  {
   "cell_type": "markdown",
   "metadata": {},
   "source": [
    "### Experimento 4\n",
    "\n",
    "Usamos Random Forests sobre las variables numéricas (sin incluir `appid`). Además juntamos todos los datos de las clases de juegos exitosos en una sola y aplicamos **subsampling** sobre la clase mayoritaria de juegos no exitosos."
   ]
  },
  {
   "cell_type": "code",
   "execution_count": 33,
   "metadata": {},
   "outputs": [
    {
     "name": "stdout",
     "output_type": "stream",
     "text": [
      "[770.]\n",
      "              precision    recall  f1-score   support\n",
      "\n",
      "           0       0.98      0.99      0.99       120\n",
      "           1       0.99      0.98      0.99       111\n",
      "\n",
      "    accuracy                           0.99       231\n",
      "   macro avg       0.99      0.99      0.99       231\n",
      "weighted avg       0.99      0.99      0.99       231\n",
      "\n",
      "\t0.510 duenos_promedio\n",
      "\t0.308 rating_neto\n",
      "\t0.155 price\n",
      "\t0.027 rating_perc\n"
     ]
    }
   ],
   "source": [
    "from sklearn.utils import resample\n",
    "\n",
    "feature_names = [\"price\",\"duenos_promedio\",\"rating_neto\",\"rating_perc\"]\n",
    "X = df[feature_names]  \n",
    "y = target.copy()\n",
    "for i in range(len(y)):\n",
    "    if y[i]>0:\n",
    "        y[i]=1\n",
    "\n",
    "X_sampled, Y_sampled = resample(X[y==0], y[y==0], random_state=3, n_samples= 400)\n",
    "\n",
    "for i in range(1,12):\n",
    "        X_i, Y_i = X[y==i], y[y==i]\n",
    "        X_sampled = np.vstack((X_sampled, X_i))\n",
    "        Y_sampled = np.hstack((Y_sampled, Y_i))\n",
    "\n",
    "def dense_to_one_hot(dense):\n",
    "    a = np.zeros((len(dense), int(np.max(dense))))\n",
    "    a[np.arange(len(dense)), dense-1] = 1\n",
    "    return a\n",
    "\n",
    "Y_sampled_one_hot = dense_to_one_hot(Y_sampled)\n",
    "print(Y_sampled_one_hot.sum(axis=0))\n",
    "\n",
    "X_train, X_test, y_train, y_test = train_test_split(X_sampled, Y_sampled, train_size=0.7, stratify=Y_sampled)\n",
    "\n",
    "clf3 = RandomForestClassifier(\n",
    "    n_estimators=30,\n",
    "    criterion='gini',\n",
    "    max_depth=5,\n",
    "    max_features='sqrt',\n",
    "    n_jobs=-1\n",
    ")\n",
    "clf3.fit(X_train, y_train)\n",
    "\n",
    "y_predicted = clf3.predict(X_test)\n",
    "\n",
    "print(classification_report(y_test, y_predicted))\n",
    "\n",
    "feature_importances = clf3.feature_importances_\n",
    "\n",
    "order = np.argsort(-feature_importances)\n",
    "\n",
    "for index in order:\n",
    "    print('\\t%.3f %s' % (feature_importances[index], feature_names[index]))"
   ]
  },
  {
   "cell_type": "markdown",
   "metadata": {},
   "source": [
    "Como se mencionó antes, el significativo desbalance de las clases hace inviable un modelo de clasificación. Esto se puede ver en el experimento 1 y 2. Una solución a esto es usar subsampling sobre la clase dominante como se hizo en el experimento 3, pero siguen habiendo clases con muy pocos datos que no pueden ser representadas apropiadamente en un modelo de clasificación.\n",
    "\n",
    "El experimento 4 parece ser el más exitoso, pues se ocuparon clases balanceádas y las métricas de evaluación de este modelo arrojaron excelentes resultados. En este experimento podemos observar que la variable más relevante al momento de clasificar los juegos como exitosos o no exitosos es `dueños_promedio`, seguida de `rating_neto` y `price`. \n",
    "\n",
    "La razón por la que `rating_perc` influye tan poco puede ser la baja varianza de la variable, pues la mayoría de estos datos rondan entre 0.8 y 1.0."
   ]
  },
  {
   "cell_type": "markdown",
   "metadata": {},
   "source": [
    "## Regresión\n",
    "\n",
    "Ahora que determinamos que la variable `dueños_promedio` es la más relevante al momento de determinar si un juego del dataset se puede considerar exitoso o no, podemos aprovechar de experimentar con modelos de regresión para observar cómo el resto de variables numéricas pueden afectar a esta variable tan importante.\n",
    "\n",
    "Cabe destacar que se utilizaron los datos originales para medir la infuencia de distintas variables sobre `dueños_promedio`. Las variables independientes a utilizar se determinaron luego de experimentar con distintos modelos de regresión fuera de este reporte."
   ]
  },
  {
   "cell_type": "code",
   "execution_count": 10,
   "metadata": {},
   "outputs": [
    {
     "data": {
      "text/html": [
       "<div>\n",
       "<style scoped>\n",
       "    .dataframe tbody tr th:only-of-type {\n",
       "        vertical-align: middle;\n",
       "    }\n",
       "\n",
       "    .dataframe tbody tr th {\n",
       "        vertical-align: top;\n",
       "    }\n",
       "\n",
       "    .dataframe thead th {\n",
       "        text-align: right;\n",
       "    }\n",
       "</style>\n",
       "<table border=\"1\" class=\"dataframe\">\n",
       "  <thead>\n",
       "    <tr style=\"text-align: right;\">\n",
       "      <th></th>\n",
       "      <th>duenos_promedio</th>\n",
       "      <th>price</th>\n",
       "      <th>positive_ratings</th>\n",
       "      <th>Indie</th>\n",
       "      <th>Action</th>\n",
       "      <th>Casual</th>\n",
       "      <th>Massively Multiplayer</th>\n",
       "      <th>Free to Play</th>\n",
       "      <th>negative_ratings</th>\n",
       "    </tr>\n",
       "  </thead>\n",
       "  <tbody>\n",
       "    <tr>\n",
       "      <th>0</th>\n",
       "      <td>15000000</td>\n",
       "      <td>7801</td>\n",
       "      <td>124534</td>\n",
       "      <td>0</td>\n",
       "      <td>1</td>\n",
       "      <td>0</td>\n",
       "      <td>0</td>\n",
       "      <td>0</td>\n",
       "      <td>3339</td>\n",
       "    </tr>\n",
       "    <tr>\n",
       "      <th>1</th>\n",
       "      <td>7500000</td>\n",
       "      <td>4329</td>\n",
       "      <td>3318</td>\n",
       "      <td>0</td>\n",
       "      <td>1</td>\n",
       "      <td>0</td>\n",
       "      <td>0</td>\n",
       "      <td>0</td>\n",
       "      <td>633</td>\n",
       "    </tr>\n",
       "    <tr>\n",
       "      <th>2</th>\n",
       "      <td>7500000</td>\n",
       "      <td>4329</td>\n",
       "      <td>3416</td>\n",
       "      <td>0</td>\n",
       "      <td>1</td>\n",
       "      <td>0</td>\n",
       "      <td>0</td>\n",
       "      <td>0</td>\n",
       "      <td>398</td>\n",
       "    </tr>\n",
       "    <tr>\n",
       "      <th>3</th>\n",
       "      <td>7500000</td>\n",
       "      <td>4329</td>\n",
       "      <td>1273</td>\n",
       "      <td>0</td>\n",
       "      <td>1</td>\n",
       "      <td>0</td>\n",
       "      <td>0</td>\n",
       "      <td>0</td>\n",
       "      <td>267</td>\n",
       "    </tr>\n",
       "    <tr>\n",
       "      <th>4</th>\n",
       "      <td>7500000</td>\n",
       "      <td>4329</td>\n",
       "      <td>5250</td>\n",
       "      <td>0</td>\n",
       "      <td>1</td>\n",
       "      <td>0</td>\n",
       "      <td>0</td>\n",
       "      <td>0</td>\n",
       "      <td>288</td>\n",
       "    </tr>\n",
       "  </tbody>\n",
       "</table>\n",
       "</div>"
      ],
      "text/plain": [
       "   duenos_promedio  price  positive_ratings  Indie  Action  Casual  \\\n",
       "0         15000000   7801            124534      0       1       0   \n",
       "1          7500000   4329              3318      0       1       0   \n",
       "2          7500000   4329              3416      0       1       0   \n",
       "3          7500000   4329              1273      0       1       0   \n",
       "4          7500000   4329              5250      0       1       0   \n",
       "\n",
       "   Massively Multiplayer  Free to Play  negative_ratings  \n",
       "0                      0             0              3339  \n",
       "1                      0             0               633  \n",
       "2                      0             0               398  \n",
       "3                      0             0               267  \n",
       "4                      0             0               288  "
      ]
     },
     "execution_count": 10,
     "metadata": {},
     "output_type": "execute_result"
    }
   ],
   "source": [
    "import pandas as pd\n",
    "import numpy as np\n",
    "\n",
    "# df = pd.read_csv('https://raw.githubusercontent.com/SoraSpace769/CC5206_steam_games/GMatamoro/data/steam_reg.csv')\n",
    "df = pd.read_csv('https://raw.githubusercontent.com/SoraSpace769/CC5206_steam_games/GMatamoro/data/steam_reg.csv')\n",
    "df.drop(df.columns[0], axis=1, inplace=True)\n",
    "df.head()"
   ]
  },
  {
   "cell_type": "code",
   "execution_count": 14,
   "metadata": {},
   "outputs": [],
   "source": [
    "# Separación de features y labels\n",
    "X = df[[\"price\",\"positive_ratings\",\"Indie\",\"Action\",\"Casual\",\"Massively Multiplayer\",\"Free to Play\",\"negative_ratings\"]]\n",
    "y = df[\"duenos_promedio\"].to_numpy()"
   ]
  },
  {
   "cell_type": "code",
   "execution_count": 15,
   "metadata": {},
   "outputs": [
    {
     "name": "stdout",
     "output_type": "stream",
     "text": [
      "                            OLS Regression Results                            \n",
      "==============================================================================\n",
      "Dep. Variable:                      y   R-squared:                       0.565\n",
      "Model:                            OLS   Adj. R-squared:                  0.565\n",
      "Method:                 Least Squares   F-statistic:                     4399.\n",
      "Date:                Mon, 20 Dec 2021   Prob (F-statistic):               0.00\n",
      "Time:                        17:53:36   Log-Likelihood:            -4.0888e+05\n",
      "No. Observations:               27075   AIC:                         8.178e+05\n",
      "Df Residuals:                   27066   BIC:                         8.178e+05\n",
      "Df Model:                           8                                         \n",
      "Covariance Type:            nonrobust                                         \n",
      "=========================================================================================\n",
      "                            coef    std err          t      P>|t|      [0.025      0.975]\n",
      "-----------------------------------------------------------------------------------------\n",
      "const                  1.325e+05   1.37e+04      9.680      0.000    1.06e+05    1.59e+05\n",
      "price                    -0.5345      0.663     -0.806      0.420      -1.834       0.765\n",
      "positive_ratings         31.1224      0.434     71.674      0.000      30.271      31.973\n",
      "Indie                 -1.075e+05   1.23e+04     -8.749      0.000   -1.32e+05   -8.34e+04\n",
      "Action                 5.956e+04    1.1e+04      5.417      0.000     3.8e+04    8.11e+04\n",
      "Casual                -4.532e+04   1.14e+04     -3.969      0.000   -6.77e+04   -2.29e+04\n",
      "Massively Multiplayer  7.951e+04   3.47e+04      2.292      0.022    1.15e+04    1.48e+05\n",
      "Free to Play           2.744e+05   2.34e+04     11.709      0.000    2.28e+05     3.2e+05\n",
      "negative_ratings        107.1016      1.928     55.548      0.000     103.322     110.881\n",
      "==============================================================================\n",
      "Omnibus:                    93399.992   Durbin-Watson:                   1.623\n",
      "Prob(Omnibus):                  0.000   Jarque-Bera (JB):      88531879269.918\n",
      "Skew:                          64.446   Prob(JB):                         0.00\n",
      "Kurtosis:                    8860.787   Cond. No.                     1.30e+05\n",
      "==============================================================================\n",
      "\n",
      "Notes:\n",
      "[1] Standard Errors assume that the covariance matrix of the errors is correctly specified.\n",
      "[2] The condition number is large, 1.3e+05. This might indicate that there are\n",
      "strong multicollinearity or other numerical problems.\n"
     ]
    }
   ],
   "source": [
    "from sklearn.linear_model import LinearRegression\n",
    "from statsmodels.api import OLS\n",
    "import statsmodels.api as sm\n",
    "\n",
    "X2 = sm.add_constant(X)\n",
    "est = sm.OLS(y, X2)\n",
    "est2 = est.fit()\n",
    "print(est2.summary())"
   ]
  },
  {
   "cell_type": "markdown",
   "metadata": {},
   "source": [
    "El mejor modelo de regresión lineal mediante mínimos cuadrados ordinarios logrado se presenta en la tabla anterior. Como se puede ver, la única variable no significativa es precio siendo todas las demás significativas al 5% (`P>|t|`<0.05). A la vez, el R cuadrado ajustado (`Adj. R-squared`) llega al 56%. \n",
    "\n",
    "Respecto a los coeficientes de las variables independientes podemos ver que sus signos muestran consistencia con los análisis realizados hasta ahora. Por ejemplo, `positive_ratings` muestra una relación positiva con `dueños promedios` de la misma manera que las dummies de género como `Action`, `Massively Multiplayer` y `Free to Play`. Algo interesante es el hecho que `negative_ratings` afecta positivamente los dueños promedio con un impacto incluso mayor que positive ratings. Esto podría hacer concluir que **mientras más ratings tenga un juego más allá si son positivos o negativos existirán más usuarios jugándolo.** \n",
    "\n",
    "Por otro lado, las dummies de `Indie` y` Casual` tienen coeficientes negativos. Esto es esperable ya que a pesar que estas categorías son muy populares en nuestra base de datos, los juegos específicos no tienen una base alta de jugadores promedio. Por último, la variable que tiene mayor impacto es `Free to Play` con un beta (`coef`) de 2.7e5 (~270000). Este resultado también es esperable ya que los juegos gratuitos tienen una alta base de jugadores."
   ]
  },
  {
   "cell_type": "markdown",
   "metadata": {},
   "source": [
    "## Asociación estadística [género -> éxito]\n",
    "\n",
    "Ahora que obtuvimos una categorización de los datos de juegos exitosos y las variables numéricas que lo determinan, observaremos cómo se comportan los diferentes géneros de videojuegos frente a este resultado mediante parámetros propios del análisis de reglas de asociación."
   ]
  },
  {
   "cell_type": "code",
   "execution_count": 11,
   "metadata": {},
   "outputs": [],
   "source": [
    "genres = dfT.columns[9:25]\n",
    "N = len(dfT)\n",
    "supEx = len(dfT.loc[dfT[\"Target\"] > 0]) / N\n",
    "asocData = []\n",
    "\n",
    "for g in genres:\n",
    "    # support(g)\n",
    "    sup = len(dfT.loc[dfT[g] == 1]) / N \n",
    "    # support(g -> e)\n",
    "    sup2 = len((dfT.loc[dfT[g] == 1]).loc[(dfT.loc[dfT[g] == 1])[\"Target\"] > 0]) / N\n",
    "    # confidence(g -> e)\n",
    "    conf = sup2 / sup\n",
    "    # lift(g -> e)\n",
    "    lift = conf / supEx\n",
    "    \n",
    "    asocData.append([g,sup,sup2,conf,lift])\n",
    "    \n",
    "asocData = np.asarray(asocData)    "
   ]
  },
  {
   "cell_type": "code",
   "execution_count": 3,
   "metadata": {},
   "outputs": [
    {
     "name": "stdout",
     "output_type": "stream",
     "text": [
      "Los generos de videojuegos ordenados por frecuencia:\n",
      "Indie = 72.15%\n",
      "Action = 44.22%\n",
      "Casual = 37.93%\n",
      "Adventure = 37.26%\n",
      "Strategy = 19.49%\n",
      "Simulation = 19.28%\n",
      "RPG = 16.02%\n",
      "Early Access = 10.97%\n",
      "Free to Play = 6.33%\n",
      "Sports = 4.91%\n",
      "Racing = 3.8%\n",
      "Violent = 3.13%\n",
      "Massively Multiplayer = 2.68%\n",
      "Gore = 1.99%\n",
      "Nudity = 0.99%\n",
      "Sexual Content = 0.91%\n"
     ]
    }
   ],
   "source": [
    "# Ordenar por support de cada genero\n",
    "# Frecuencia relativa de la varaible con respecto al total de datos\n",
    "# Porcentaje de juegos de cierto género\n",
    "\n",
    "print(\"Los generos de videojuegos ordenados por frecuencia:\")\n",
    "\n",
    "for i in np.flipud(asocData[np.lexsort(asocData.T[[1]])]):\n",
    "    print(i[0]+\" = \"+str(round(100*float(i[1]) , 2))+\"%\")"
   ]
  },
  {
   "cell_type": "code",
   "execution_count": 14,
   "metadata": {},
   "outputs": [
    {
     "name": "stdout",
     "output_type": "stream",
     "text": [
      "Porcentaje de juegos exitosos de cada género (con respecto al total):\n",
      "Action = 0.94%\n",
      "Indie = 0.43%\n",
      "Adventure = 0.4%\n",
      "Free to Play = 0.34%\n",
      "RPG = 0.3%\n",
      "Strategy = 0.24%\n",
      "Simulation = 0.23%\n",
      "Massively Multiplayer = 0.16%\n",
      "Casual = 0.13%\n",
      "Early Access = 0.06%\n",
      "Sports = 0.04%\n",
      "Racing = 0.03%\n",
      "Nudity = 0.01%\n",
      "Violent = 0.01%\n",
      "Sexual Content = 0.01%\n",
      "Gore = 0.01%\n",
      "\u001b[1mAny = 1.37%\n",
      "*nota: esto último es el porcentaje de juegos exitosos de cualquier género\n",
      "no es la suma de todos los anteriores pues un juego puede pertenecer a más de un género\n"
     ]
    }
   ],
   "source": [
    "# Ordenar por support de [genero -> exito]\n",
    "# Frecuencia relativa de la variable siendo exitosa con respecto al total de datos\n",
    "# Porcentaje de juegos exitosos de cierto género\n",
    "\n",
    "print(\"Porcentaje de juegos exitosos de cada género (con respecto al total):\")\n",
    "\n",
    "for i in np.flipud(asocData[np.lexsort(asocData.T[[2]])]):\n",
    "    print(i[0]+\" = \"+str(round(100*float(i[2]) , 2))+\"%\")\n",
    "    \n",
    "print('\\033[1m' + 'Any = '+str(round(100*float(supEx) , 2))+\"%\")\n",
    "print(\"*nota: esto último es el porcentaje de juegos exitosos de cualquier género\")\n",
    "print(\"no es la suma de todos los anteriores pues un juego puede pertenecer a más de un género\")"
   ]
  },
  {
   "cell_type": "code",
   "execution_count": 106,
   "metadata": {},
   "outputs": [
    {
     "name": "stdout",
     "output_type": "stream",
     "text": [
      "Porcentaje de juegos exitosos dentro cada género:\n",
      "Massively Multiplayer = 5.96%\n",
      "Free to Play = 5.4%\n",
      "Action = 2.13%\n",
      "RPG = 1.88%\n",
      "Nudity = 1.5%\n",
      "Strategy = 1.24%\n",
      "Sexual Content = 1.22%\n",
      "Simulation = 1.21%\n",
      "Adventure = 1.08%\n",
      "Racing = 0.88%\n",
      "Sports = 0.83%\n",
      "Indie = 0.6%\n",
      "Gore = 0.56%\n",
      "Early Access = 0.51%\n",
      "Violent = 0.48%\n",
      "Casual = 0.34%\n"
     ]
    }
   ],
   "source": [
    "# Ordenar por confidence de [genero -> exito]\n",
    "# Frecuencia relativa de la variable siendo exitosa con respecto a los datos de la variable\n",
    "# Porcentaje de juegos exitosos dentro de cierto género\n",
    "\n",
    "print(\"Porcentaje de juegos exitosos dentro cada género:\")\n",
    "\n",
    "for i in np.flipud(asocData[np.lexsort(asocData.T[[3]])]):\n",
    "    print(i[0]+\" = \"+str(round(100*float(i[3]) , 2))+\"%\")"
   ]
  },
  {
   "cell_type": "code",
   "execution_count": 111,
   "metadata": {},
   "outputs": [
    {
     "name": "stdout",
     "output_type": "stream",
     "text": [
      "Géneros ordenados por el paránetro \"Lift\":\n",
      "Massively Multiplayer = 4.33\n",
      "Free to Play = 3.93\n",
      "Action = 1.55\n",
      "RPG = 1.37\n",
      "Nudity = 1.09\n",
      "Strategy = 0.9\n",
      "Sexual Content = 0.89\n",
      "Simulation = 0.88\n",
      "Adventure = 0.78\n",
      "Racing = 0.64\n",
      "Sports = 0.61\n",
      "Indie = 0.44\n",
      "Gore = 0.41\n",
      "Early Access = 0.37\n",
      "Violent = 0.35\n",
      "Casual = 0.25\n"
     ]
    }
   ],
   "source": [
    "# Ordenar por lift de [genero -> exito]\n",
    "# Independencia estadística y correlación de las variables género-éxito\n",
    "# Mide si es probable que un juego sea exitoso cuando es de cierto género comparado a que si fuese de cualquier género\n",
    "# Si lift(g -> e) > 1, significa que hay una correlación positiva\n",
    "# Es decir, que si un juego del genero g es exitoso, podemos decir que hubo cierto grado de implicancia\n",
    "# Si lift(g -> e) < 1, significa que hay una correlación negativa\n",
    "# Es decir, que si un juego del genero g es exitoso, pudo haber sido solo por coincidencia\n",
    "print(\"Géneros ordenados por el paránetro \\\"Lift\\\":\")\n",
    "\n",
    "for i in np.flipud(asocData[np.lexsort(asocData.T[[4]])]):\n",
    "    print(i[0]+\" = \"+str(round(float(i[4]) , 2)))"
   ]
  },
  {
   "cell_type": "markdown",
   "metadata": {},
   "source": [
    "Las primeras tres métricas son bastante claras, sin embargo esta última necesita ser explicada un poco más.\n",
    "\n",
    "Lift indica la correlación entre el antecedente y el consecuente de una regla de asociación. En este caso, como todas las reglas tienen el mismo consecuente, se podría decir que representa el éxito de cada género de video jugeos. Veamos los dos casos más extremos:\n",
    "\n",
    "> Massive Multiplayer: Estos juegos representan un **2.68%** de los datos, pero los juegos exitosos de este género representan un 0.26% de los datos. Esto significa que un **5.96%** de los juegos de este género son exitosos.\n",
    "Considerando que los juegos exitosos son un **1.37%** del total, si elegimos un juego al azar la probabilidad que sea exitoso y de éste género es de 0.037%, pero viendo la similitud en la cantidad de datos pertenecientes a estas variables, **no es mucha coincidencia que un juego Massive Multiplayer sea exitoso** (exite cierta implicancia). \n",
    "\n",
    "> Casual: Estos juegos representan un **37.93%** de los datos, pero los juegos exitosos de este género representan un 0.13% de los datos. Esto significa que un **0.34%** de los juegos de este género son exitosos.\n",
    "Considerando que los juegos exitosos son un **1.37%** del total, si elegimos un juego al azar la probabilidad que sea exitoso y de éste género es de 0.52% pero viendo la diferencia en la cantidad de datos pertenecientes a estas variables, **podría ser coincidencia que un juego Casual sea exitoso** (no existe mucha implicancia)."
   ]
  }
 ],
 "metadata": {
  "kernelspec": {
   "display_name": "Python 3",
   "language": "python",
   "name": "python3"
  },
  "language_info": {
   "codemirror_mode": {
    "name": "ipython",
    "version": 3
   },
   "file_extension": ".py",
   "mimetype": "text/x-python",
   "name": "python",
   "nbconvert_exporter": "python",
   "pygments_lexer": "ipython3",
   "version": "3.8.5"
  }
 },
 "nbformat": 4,
 "nbformat_minor": 4
}
