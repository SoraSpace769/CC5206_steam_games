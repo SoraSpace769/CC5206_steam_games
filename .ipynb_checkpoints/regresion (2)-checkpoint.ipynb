{
 "cells": [
  {
   "cell_type": "code",
   "execution_count": 1,
   "metadata": {},
   "outputs": [],
   "source": [
    "import pandas as pd\n",
    "import numpy as np\n",
    "import matplotlib.pyplot as plt\n",
    "from sklearn.ensemble import RandomForestRegressor\n",
    "from sklearn.neighbors import KNeighborsRegressor\n",
    "from sklearn.linear_model import LinearRegression"
   ]
  },
  {
   "cell_type": "markdown",
   "metadata": {},
   "source": [
    "## Regresión sobre precio de los juegos\n",
    "\n",
    "La idea es encontrar una función, donde la salida sea el precio de los juegos, y las entradas los dueños promedio, rating neto y rating porcentual."
   ]
  },
  {
   "cell_type": "code",
   "execution_count": 2,
   "metadata": {
    "scrolled": true
   },
   "outputs": [
    {
     "data": {
      "text/html": [
       "<div>\n",
       "<style scoped>\n",
       "    .dataframe tbody tr th:only-of-type {\n",
       "        vertical-align: middle;\n",
       "    }\n",
       "\n",
       "    .dataframe tbody tr th {\n",
       "        vertical-align: top;\n",
       "    }\n",
       "\n",
       "    .dataframe thead th {\n",
       "        text-align: right;\n",
       "    }\n",
       "</style>\n",
       "<table border=\"1\" class=\"dataframe\">\n",
       "  <thead>\n",
       "    <tr style=\"text-align: right;\">\n",
       "      <th></th>\n",
       "      <th>appid</th>\n",
       "      <th>name</th>\n",
       "      <th>developer</th>\n",
       "      <th>publisher</th>\n",
       "      <th>price</th>\n",
       "      <th>year</th>\n",
       "      <th>duenos_promedio</th>\n",
       "      <th>rating_neto</th>\n",
       "      <th>rating_perc</th>\n",
       "      <th>Action</th>\n",
       "      <th>...</th>\n",
       "      <th>Casual</th>\n",
       "      <th>Simulation</th>\n",
       "      <th>Racing</th>\n",
       "      <th>Violent</th>\n",
       "      <th>Massively Multiplayer</th>\n",
       "      <th>Nudity</th>\n",
       "      <th>Sports</th>\n",
       "      <th>Early Access</th>\n",
       "      <th>Gore</th>\n",
       "      <th>Sexual Content</th>\n",
       "    </tr>\n",
       "  </thead>\n",
       "  <tbody>\n",
       "    <tr>\n",
       "      <th>0</th>\n",
       "      <td>10</td>\n",
       "      <td>Counter-Strike</td>\n",
       "      <td>Valve</td>\n",
       "      <td>Valve</td>\n",
       "      <td>7801</td>\n",
       "      <td>2000</td>\n",
       "      <td>15000000.0</td>\n",
       "      <td>121195</td>\n",
       "      <td>0.973888</td>\n",
       "      <td>1</td>\n",
       "      <td>...</td>\n",
       "      <td>0</td>\n",
       "      <td>0</td>\n",
       "      <td>0</td>\n",
       "      <td>0</td>\n",
       "      <td>0</td>\n",
       "      <td>0</td>\n",
       "      <td>0</td>\n",
       "      <td>0</td>\n",
       "      <td>0</td>\n",
       "      <td>0</td>\n",
       "    </tr>\n",
       "    <tr>\n",
       "      <th>1</th>\n",
       "      <td>20</td>\n",
       "      <td>Team Fortress Classic</td>\n",
       "      <td>Valve</td>\n",
       "      <td>Valve</td>\n",
       "      <td>4329</td>\n",
       "      <td>1999</td>\n",
       "      <td>7500000.0</td>\n",
       "      <td>2685</td>\n",
       "      <td>0.839787</td>\n",
       "      <td>1</td>\n",
       "      <td>...</td>\n",
       "      <td>0</td>\n",
       "      <td>0</td>\n",
       "      <td>0</td>\n",
       "      <td>0</td>\n",
       "      <td>0</td>\n",
       "      <td>0</td>\n",
       "      <td>0</td>\n",
       "      <td>0</td>\n",
       "      <td>0</td>\n",
       "      <td>0</td>\n",
       "    </tr>\n",
       "    <tr>\n",
       "      <th>2</th>\n",
       "      <td>30</td>\n",
       "      <td>Day of Defeat</td>\n",
       "      <td>Valve</td>\n",
       "      <td>Valve</td>\n",
       "      <td>4329</td>\n",
       "      <td>2003</td>\n",
       "      <td>7500000.0</td>\n",
       "      <td>3018</td>\n",
       "      <td>0.895648</td>\n",
       "      <td>1</td>\n",
       "      <td>...</td>\n",
       "      <td>0</td>\n",
       "      <td>0</td>\n",
       "      <td>0</td>\n",
       "      <td>0</td>\n",
       "      <td>0</td>\n",
       "      <td>0</td>\n",
       "      <td>0</td>\n",
       "      <td>0</td>\n",
       "      <td>0</td>\n",
       "      <td>0</td>\n",
       "    </tr>\n",
       "    <tr>\n",
       "      <th>3</th>\n",
       "      <td>40</td>\n",
       "      <td>Deathmatch Classic</td>\n",
       "      <td>Valve</td>\n",
       "      <td>Valve</td>\n",
       "      <td>4329</td>\n",
       "      <td>2001</td>\n",
       "      <td>7500000.0</td>\n",
       "      <td>1006</td>\n",
       "      <td>0.826623</td>\n",
       "      <td>1</td>\n",
       "      <td>...</td>\n",
       "      <td>0</td>\n",
       "      <td>0</td>\n",
       "      <td>0</td>\n",
       "      <td>0</td>\n",
       "      <td>0</td>\n",
       "      <td>0</td>\n",
       "      <td>0</td>\n",
       "      <td>0</td>\n",
       "      <td>0</td>\n",
       "      <td>0</td>\n",
       "    </tr>\n",
       "    <tr>\n",
       "      <th>4</th>\n",
       "      <td>50</td>\n",
       "      <td>Half-Life: Opposing Force</td>\n",
       "      <td>Gearbox Software</td>\n",
       "      <td>Valve</td>\n",
       "      <td>4329</td>\n",
       "      <td>1999</td>\n",
       "      <td>7500000.0</td>\n",
       "      <td>4962</td>\n",
       "      <td>0.947996</td>\n",
       "      <td>1</td>\n",
       "      <td>...</td>\n",
       "      <td>0</td>\n",
       "      <td>0</td>\n",
       "      <td>0</td>\n",
       "      <td>0</td>\n",
       "      <td>0</td>\n",
       "      <td>0</td>\n",
       "      <td>0</td>\n",
       "      <td>0</td>\n",
       "      <td>0</td>\n",
       "      <td>0</td>\n",
       "    </tr>\n",
       "  </tbody>\n",
       "</table>\n",
       "<p>5 rows × 25 columns</p>\n",
       "</div>"
      ],
      "text/plain": [
       "   appid                       name         developer publisher  price  year  \\\n",
       "0     10             Counter-Strike             Valve     Valve   7801  2000   \n",
       "1     20      Team Fortress Classic             Valve     Valve   4329  1999   \n",
       "2     30              Day of Defeat             Valve     Valve   4329  2003   \n",
       "3     40         Deathmatch Classic             Valve     Valve   4329  2001   \n",
       "4     50  Half-Life: Opposing Force  Gearbox Software     Valve   4329  1999   \n",
       "\n",
       "   duenos_promedio  rating_neto  rating_perc  Action  ...  Casual  Simulation  \\\n",
       "0       15000000.0       121195     0.973888       1  ...       0           0   \n",
       "1        7500000.0         2685     0.839787       1  ...       0           0   \n",
       "2        7500000.0         3018     0.895648       1  ...       0           0   \n",
       "3        7500000.0         1006     0.826623       1  ...       0           0   \n",
       "4        7500000.0         4962     0.947996       1  ...       0           0   \n",
       "\n",
       "   Racing  Violent  Massively Multiplayer  Nudity  Sports  Early Access  Gore  \\\n",
       "0       0        0                      0       0       0             0     0   \n",
       "1       0        0                      0       0       0             0     0   \n",
       "2       0        0                      0       0       0             0     0   \n",
       "3       0        0                      0       0       0             0     0   \n",
       "4       0        0                      0       0       0             0     0   \n",
       "\n",
       "   Sexual Content  \n",
       "0               0  \n",
       "1               0  \n",
       "2               0  \n",
       "3               0  \n",
       "4               0  \n",
       "\n",
       "[5 rows x 25 columns]"
      ]
     },
     "execution_count": 2,
     "metadata": {},
     "output_type": "execute_result"
    }
   ],
   "source": [
    "df = pd.read_csv('https://raw.githubusercontent.com/SoraSpace769/CC5206_steam_games/GMatamoro/data/steam_ready2.csv')\n",
    "df.drop(df.columns[0], axis=1, inplace=True)\n",
    "df.head()"
   ]
  },
  {
   "cell_type": "code",
   "execution_count": 4,
   "metadata": {},
   "outputs": [],
   "source": [
    "# Separación de features y labels\n",
    "features = df[[\"duenos_promedio\",\"rating_neto\",\"rating_perc\"]]\n",
    "labels = df[\"price\"].to_numpy()"
   ]
  },
  {
   "cell_type": "code",
   "execution_count": 5,
   "metadata": {},
   "outputs": [
    {
     "data": {
      "text/html": [
       "<div>\n",
       "<style scoped>\n",
       "    .dataframe tbody tr th:only-of-type {\n",
       "        vertical-align: middle;\n",
       "    }\n",
       "\n",
       "    .dataframe tbody tr th {\n",
       "        vertical-align: top;\n",
       "    }\n",
       "\n",
       "    .dataframe thead th {\n",
       "        text-align: right;\n",
       "    }\n",
       "</style>\n",
       "<table border=\"1\" class=\"dataframe\">\n",
       "  <thead>\n",
       "    <tr style=\"text-align: right;\">\n",
       "      <th></th>\n",
       "      <th>duenos_promedio</th>\n",
       "      <th>rating_neto</th>\n",
       "      <th>rating_perc</th>\n",
       "    </tr>\n",
       "  </thead>\n",
       "  <tbody>\n",
       "    <tr>\n",
       "      <th>0</th>\n",
       "      <td>11.167003</td>\n",
       "      <td>7.522544</td>\n",
       "      <td>1.110130</td>\n",
       "    </tr>\n",
       "    <tr>\n",
       "      <th>1</th>\n",
       "      <td>5.533092</td>\n",
       "      <td>0.118359</td>\n",
       "      <td>0.536096</td>\n",
       "    </tr>\n",
       "    <tr>\n",
       "      <th>2</th>\n",
       "      <td>5.533092</td>\n",
       "      <td>0.139164</td>\n",
       "      <td>0.775212</td>\n",
       "    </tr>\n",
       "    <tr>\n",
       "      <th>3</th>\n",
       "      <td>5.533092</td>\n",
       "      <td>0.013460</td>\n",
       "      <td>0.479746</td>\n",
       "    </tr>\n",
       "    <tr>\n",
       "      <th>4</th>\n",
       "      <td>5.533092</td>\n",
       "      <td>0.260620</td>\n",
       "      <td>0.999294</td>\n",
       "    </tr>\n",
       "  </tbody>\n",
       "</table>\n",
       "</div>"
      ],
      "text/plain": [
       "   duenos_promedio  rating_neto  rating_perc\n",
       "0        11.167003     7.522544     1.110130\n",
       "1         5.533092     0.118359     0.536096\n",
       "2         5.533092     0.139164     0.775212\n",
       "3         5.533092     0.013460     0.479746\n",
       "4         5.533092     0.260620     0.999294"
      ]
     },
     "execution_count": 5,
     "metadata": {},
     "output_type": "execute_result"
    }
   ],
   "source": [
    "# Normalización de conjuntos\n",
    "X =(features-features.mean())/features.std()\n",
    "y =(labels-labels.mean())/labels.std()\n",
    "X.head()"
   ]
  },
  {
   "cell_type": "markdown",
   "metadata": {},
   "source": [
    "### Regresión con Modelo Lineal (Mínimos Cuadrados)\n",
    "\n",
    "Se intentará una regresión lineal simple sobre los datos."
   ]
  },
  {
   "cell_type": "code",
   "execution_count": 6,
   "metadata": {},
   "outputs": [
    {
     "name": "stdout",
     "output_type": "stream",
     "text": [
      "Coeficientes: [0.02556199 0.01639437 0.08738829]\n",
      "R^2: 0.009372538088601612\n"
     ]
    }
   ],
   "source": [
    "reg_linear = LinearRegression().fit(X, y)\n",
    "print(\"Coeficientes:\", reg_linear.coef_)\n",
    "print(\"R^2:\", reg_linear.score(X,y))"
   ]
  },
  {
   "cell_type": "markdown",
   "metadata": {},
   "source": [
    "### Regresión con Random Forest\n",
    "\n",
    "Se probará con distinta profundidad máxima, para observar el desempeño del algoritmo usando la métrica $R^2$."
   ]
  },
  {
   "cell_type": "code",
   "execution_count": 7,
   "metadata": {},
   "outputs": [],
   "source": [
    "depths_rf = np.arange(1, 40, step=1)\n",
    "r2_scores_rf = np.zeros_like(depths_rf, dtype=np.float16)\n",
    "for i in range(len(depths_rf)):\n",
    "\n",
    "    regr_rf = RandomForestRegressor(max_depth=depths_rf[i], random_state=0)\n",
    "    regr_rf.fit(X, y)\n",
    "    #regr_rf.predict(X)\n",
    "    r2_scores_rf[i] = regr_rf.score(X,y)"
   ]
  },
  {
   "cell_type": "code",
   "execution_count": 8,
   "metadata": {},
   "outputs": [
    {
     "name": "stdout",
     "output_type": "stream",
     "text": [
      "Máximo R^2: 0.6445\n"
     ]
    }
   ],
   "source": [
    "print(\"Máximo R^2:\", max(r2_scores_rf))"
   ]
  },
  {
   "cell_type": "code",
   "execution_count": 9,
   "metadata": {},
   "outputs": [
    {
     "data": {
      "image/png": "[encoded data removed]",
      "text/plain": [
       "<Figure size 432x288 with 1 Axes>"
      ]
     },
     "metadata": {
      "needs_background": "light"
     },
     "output_type": "display_data"
    }
   ],
   "source": [
    "plt.plot(depths_rf, r2_scores_rf, \"*\")\n",
    "plt.grid(True)\n",
    "plt.title(\"Desempeño de RF con distintas prifundidades máximas\")\n",
    "plt.xlabel(\"Prof. máxima\")\n",
    "plt.ylabel(\"$R^2$\")\n",
    "plt.xlim(left=0)\n",
    "plt.show()"
   ]
  },
  {
   "cell_type": "markdown",
   "metadata": {},
   "source": [
    "### Regresión con KNN\n",
    "\n",
    "Se probará con distinta cantidad de vecinos, y así observar el desempeño del algoritmo en base a la métrica $R^2$."
   ]
  },
  {
   "cell_type": "code",
   "execution_count": 10,
   "metadata": {},
   "outputs": [],
   "source": [
    "neigh_knn = np.arange(1, 21, step=1)\n",
    "r2_scores_knn = np.zeros_like(neigh_knn, dtype=np.float16)\n",
    "for i in range(len(neigh_knn)):\n",
    "\n",
    "    regr_knn = KNeighborsRegressor(n_neighbors=neigh_knn[i])\n",
    "    regr_knn.fit(X, y)\n",
    "    #regr_knn.predict(X)\n",
    "    r2_scores_knn[i] = regr_knn.score(X,y)"
   ]
  },
  {
   "cell_type": "code",
   "execution_count": 11,
   "metadata": {},
   "outputs": [
    {
     "name": "stdout",
     "output_type": "stream",
     "text": [
      "Máximo R^2: 0.4773\n"
     ]
    }
   ],
   "source": [
    "print(\"Máximo R^2:\", max(r2_scores_knn))"
   ]
  },
  {
   "cell_type": "code",
   "execution_count": 12,
   "metadata": {},
   "outputs": [
    {
     "data": {
      "image/png": "[encoded data removed]",
      "text/plain": [
       "<Figure size 432x288 with 1 Axes>"
      ]
     },
     "metadata": {
      "needs_background": "light"
     },
     "output_type": "display_data"
    }
   ],
   "source": [
    "plt.plot(neigh_knn, r2_scores_knn, \"*\")\n",
    "plt.grid(True)\n",
    "plt.title(\"Desempeño de KNN con distintos vecinos\")\n",
    "plt.xlabel(\"Núm. de vecinos\")\n",
    "plt.ylabel(\"$R^2$\")\n",
    "plt.xlim(0,20.5)\n",
    "plt.xticks(np.arange(0, max(neigh_knn)+1, 2.0))\n",
    "plt.show()"
   ]
  },
  {
   "cell_type": "markdown",
   "metadata": {},
   "source": [
    "## Regresión sobre tier de popularidad de los juegos\n",
    "\n",
    "La idea es encontrar una función, donde la salida sean los clusters-tier de los juegos, y las entradas el precio, los dueños promedio, rating neto y rating porcentual."
   ]
  },
  {
   "cell_type": "code",
   "execution_count": 14,
   "metadata": {
    "scrolled": true
   },
   "outputs": [],
   "source": [
    "dfT = pd.read_csv('https://raw.githubusercontent.com/SoraSpace769/CC5206_steam_games/GMatamoro/data/steam_target.csv')\n",
    "dfT.drop(dfT.columns[0], axis=1, inplace=True)"
   ]
  },
  {
   "cell_type": "code",
   "execution_count": 30,
   "metadata": {},
   "outputs": [
    {
     "data": {
      "text/html": [
       "<div>\n",
       "<style scoped>\n",
       "    .dataframe tbody tr th:only-of-type {\n",
       "        vertical-align: middle;\n",
       "    }\n",
       "\n",
       "    .dataframe tbody tr th {\n",
       "        vertical-align: top;\n",
       "    }\n",
       "\n",
       "    .dataframe thead th {\n",
       "        text-align: right;\n",
       "    }\n",
       "</style>\n",
       "<table border=\"1\" class=\"dataframe\">\n",
       "  <thead>\n",
       "    <tr style=\"text-align: right;\">\n",
       "      <th></th>\n",
       "      <th>appid</th>\n",
       "      <th>name</th>\n",
       "      <th>developer</th>\n",
       "      <th>publisher</th>\n",
       "      <th>price</th>\n",
       "      <th>year</th>\n",
       "      <th>duenos_promedio</th>\n",
       "      <th>rating_neto</th>\n",
       "      <th>rating_perc</th>\n",
       "      <th>Action</th>\n",
       "      <th>...</th>\n",
       "      <th>Simulation</th>\n",
       "      <th>Racing</th>\n",
       "      <th>Violent</th>\n",
       "      <th>Massively Multiplayer</th>\n",
       "      <th>Nudity</th>\n",
       "      <th>Sports</th>\n",
       "      <th>Early Access</th>\n",
       "      <th>Gore</th>\n",
       "      <th>Sexual Content</th>\n",
       "      <th>Target</th>\n",
       "    </tr>\n",
       "  </thead>\n",
       "  <tbody>\n",
       "    <tr>\n",
       "      <th>0</th>\n",
       "      <td>10</td>\n",
       "      <td>Counter-Strike</td>\n",
       "      <td>Valve</td>\n",
       "      <td>Valve</td>\n",
       "      <td>7801</td>\n",
       "      <td>2000</td>\n",
       "      <td>15000000.0</td>\n",
       "      <td>121195</td>\n",
       "      <td>0.973888</td>\n",
       "      <td>1</td>\n",
       "      <td>...</td>\n",
       "      <td>0</td>\n",
       "      <td>0</td>\n",
       "      <td>0</td>\n",
       "      <td>0</td>\n",
       "      <td>0</td>\n",
       "      <td>0</td>\n",
       "      <td>0</td>\n",
       "      <td>0</td>\n",
       "      <td>0</td>\n",
       "      <td>8</td>\n",
       "    </tr>\n",
       "    <tr>\n",
       "      <th>1</th>\n",
       "      <td>20</td>\n",
       "      <td>Team Fortress Classic</td>\n",
       "      <td>Valve</td>\n",
       "      <td>Valve</td>\n",
       "      <td>4329</td>\n",
       "      <td>1999</td>\n",
       "      <td>7500000.0</td>\n",
       "      <td>2685</td>\n",
       "      <td>0.839787</td>\n",
       "      <td>1</td>\n",
       "      <td>...</td>\n",
       "      <td>0</td>\n",
       "      <td>0</td>\n",
       "      <td>0</td>\n",
       "      <td>0</td>\n",
       "      <td>0</td>\n",
       "      <td>0</td>\n",
       "      <td>0</td>\n",
       "      <td>0</td>\n",
       "      <td>0</td>\n",
       "      <td>5</td>\n",
       "    </tr>\n",
       "    <tr>\n",
       "      <th>2</th>\n",
       "      <td>30</td>\n",
       "      <td>Day of Defeat</td>\n",
       "      <td>Valve</td>\n",
       "      <td>Valve</td>\n",
       "      <td>4329</td>\n",
       "      <td>2003</td>\n",
       "      <td>7500000.0</td>\n",
       "      <td>3018</td>\n",
       "      <td>0.895648</td>\n",
       "      <td>1</td>\n",
       "      <td>...</td>\n",
       "      <td>0</td>\n",
       "      <td>0</td>\n",
       "      <td>0</td>\n",
       "      <td>0</td>\n",
       "      <td>0</td>\n",
       "      <td>0</td>\n",
       "      <td>0</td>\n",
       "      <td>0</td>\n",
       "      <td>0</td>\n",
       "      <td>5</td>\n",
       "    </tr>\n",
       "    <tr>\n",
       "      <th>3</th>\n",
       "      <td>40</td>\n",
       "      <td>Deathmatch Classic</td>\n",
       "      <td>Valve</td>\n",
       "      <td>Valve</td>\n",
       "      <td>4329</td>\n",
       "      <td>2001</td>\n",
       "      <td>7500000.0</td>\n",
       "      <td>1006</td>\n",
       "      <td>0.826623</td>\n",
       "      <td>1</td>\n",
       "      <td>...</td>\n",
       "      <td>0</td>\n",
       "      <td>0</td>\n",
       "      <td>0</td>\n",
       "      <td>0</td>\n",
       "      <td>0</td>\n",
       "      <td>0</td>\n",
       "      <td>0</td>\n",
       "      <td>0</td>\n",
       "      <td>0</td>\n",
       "      <td>5</td>\n",
       "    </tr>\n",
       "    <tr>\n",
       "      <th>4</th>\n",
       "      <td>50</td>\n",
       "      <td>Half-Life: Opposing Force</td>\n",
       "      <td>Gearbox Software</td>\n",
       "      <td>Valve</td>\n",
       "      <td>4329</td>\n",
       "      <td>1999</td>\n",
       "      <td>7500000.0</td>\n",
       "      <td>4962</td>\n",
       "      <td>0.947996</td>\n",
       "      <td>1</td>\n",
       "      <td>...</td>\n",
       "      <td>0</td>\n",
       "      <td>0</td>\n",
       "      <td>0</td>\n",
       "      <td>0</td>\n",
       "      <td>0</td>\n",
       "      <td>0</td>\n",
       "      <td>0</td>\n",
       "      <td>0</td>\n",
       "      <td>0</td>\n",
       "      <td>5</td>\n",
       "    </tr>\n",
       "  </tbody>\n",
       "</table>\n",
       "<p>5 rows × 26 columns</p>\n",
       "</div>"
      ],
      "text/plain": [
       "   appid                       name         developer publisher  price  year  \\\n",
       "0     10             Counter-Strike             Valve     Valve   7801  2000   \n",
       "1     20      Team Fortress Classic             Valve     Valve   4329  1999   \n",
       "2     30              Day of Defeat             Valve     Valve   4329  2003   \n",
       "3     40         Deathmatch Classic             Valve     Valve   4329  2001   \n",
       "4     50  Half-Life: Opposing Force  Gearbox Software     Valve   4329  1999   \n",
       "\n",
       "   duenos_promedio  rating_neto  rating_perc  Action  ...  Simulation  Racing  \\\n",
       "0       15000000.0       121195     0.973888       1  ...           0       0   \n",
       "1        7500000.0         2685     0.839787       1  ...           0       0   \n",
       "2        7500000.0         3018     0.895648       1  ...           0       0   \n",
       "3        7500000.0         1006     0.826623       1  ...           0       0   \n",
       "4        7500000.0         4962     0.947996       1  ...           0       0   \n",
       "\n",
       "   Violent  Massively Multiplayer  Nudity  Sports  Early Access  Gore  \\\n",
       "0        0                      0       0       0             0     0   \n",
       "1        0                      0       0       0             0     0   \n",
       "2        0                      0       0       0             0     0   \n",
       "3        0                      0       0       0             0     0   \n",
       "4        0                      0       0       0             0     0   \n",
       "\n",
       "   Sexual Content  Target  \n",
       "0               0       8  \n",
       "1               0       5  \n",
       "2               0       5  \n",
       "3               0       5  \n",
       "4               0       5  \n",
       "\n",
       "[5 rows x 26 columns]"
      ]
     },
     "execution_count": 30,
     "metadata": {},
     "output_type": "execute_result"
    }
   ],
   "source": [
    "def turn_over(x):\n",
    "    if x>0:\n",
    "        return int(13 - x)\n",
    "    else:\n",
    "        return int(0)\n",
    "dfT[\"Target\"] = dfT[\"Target\"].apply(turn_over)\n",
    "dfT.head()"
   ]
  },
  {
   "cell_type": "code",
   "execution_count": 37,
   "metadata": {},
   "outputs": [],
   "source": [
    "# Separación de features y labels\n",
    "features = dfT[[\"price\",\"duenos_promedio\",\"rating_neto\",\"rating_perc\"]]\n",
    "labels = dfT[\"Target\"].to_numpy()"
   ]
  },
  {
   "cell_type": "code",
   "execution_count": 38,
   "metadata": {},
   "outputs": [
    {
     "data": {
      "text/html": [
       "<div>\n",
       "<style scoped>\n",
       "    .dataframe tbody tr th:only-of-type {\n",
       "        vertical-align: middle;\n",
       "    }\n",
       "\n",
       "    .dataframe tbody tr th {\n",
       "        vertical-align: top;\n",
       "    }\n",
       "\n",
       "    .dataframe thead th {\n",
       "        text-align: right;\n",
       "    }\n",
       "</style>\n",
       "<table border=\"1\" class=\"dataframe\">\n",
       "  <thead>\n",
       "    <tr style=\"text-align: right;\">\n",
       "      <th></th>\n",
       "      <th>price</th>\n",
       "      <th>duenos_promedio</th>\n",
       "      <th>rating_neto</th>\n",
       "      <th>rating_perc</th>\n",
       "    </tr>\n",
       "  </thead>\n",
       "  <tbody>\n",
       "    <tr>\n",
       "      <th>0</th>\n",
       "      <td>0.190166</td>\n",
       "      <td>11.167003</td>\n",
       "      <td>7.522544</td>\n",
       "      <td>1.110130</td>\n",
       "    </tr>\n",
       "    <tr>\n",
       "      <th>1</th>\n",
       "      <td>-0.303575</td>\n",
       "      <td>5.533092</td>\n",
       "      <td>0.118359</td>\n",
       "      <td>0.536096</td>\n",
       "    </tr>\n",
       "    <tr>\n",
       "      <th>2</th>\n",
       "      <td>-0.303575</td>\n",
       "      <td>5.533092</td>\n",
       "      <td>0.139164</td>\n",
       "      <td>0.775212</td>\n",
       "    </tr>\n",
       "    <tr>\n",
       "      <th>3</th>\n",
       "      <td>-0.303575</td>\n",
       "      <td>5.533092</td>\n",
       "      <td>0.013460</td>\n",
       "      <td>0.479746</td>\n",
       "    </tr>\n",
       "    <tr>\n",
       "      <th>4</th>\n",
       "      <td>-0.303575</td>\n",
       "      <td>5.533092</td>\n",
       "      <td>0.260620</td>\n",
       "      <td>0.999294</td>\n",
       "    </tr>\n",
       "  </tbody>\n",
       "</table>\n",
       "</div>"
      ],
      "text/plain": [
       "      price  duenos_promedio  rating_neto  rating_perc\n",
       "0  0.190166        11.167003     7.522544     1.110130\n",
       "1 -0.303575         5.533092     0.118359     0.536096\n",
       "2 -0.303575         5.533092     0.139164     0.775212\n",
       "3 -0.303575         5.533092     0.013460     0.479746\n",
       "4 -0.303575         5.533092     0.260620     0.999294"
      ]
     },
     "execution_count": 38,
     "metadata": {},
     "output_type": "execute_result"
    }
   ],
   "source": [
    "# Normalización de conjuntos\n",
    "X =(features-features.mean())/features.std()\n",
    "y =(labels-labels.mean())/labels.std()\n",
    "X.head()"
   ]
  },
  {
   "cell_type": "markdown",
   "metadata": {},
   "source": [
    "### Regresión con Modelo Lineal (Mínimos Cuadrados)\n",
    "\n",
    "Se intentará una regresión lineal simple sobre los datos."
   ]
  },
  {
   "cell_type": "code",
   "execution_count": 40,
   "metadata": {},
   "outputs": [
    {
     "name": "stdout",
     "output_type": "stream",
     "text": [
      "Coeficientes: [0.18040871 0.51971292 0.13638491 0.01765739]\n",
      "R^2: 0.42613639098369127\n"
     ]
    }
   ],
   "source": [
    "reg_linear = LinearRegression().fit(X, y)\n",
    "print(\"Coeficientes:\", reg_linear.coef_)\n",
    "print(\"R^2:\", reg_linear.score(X,y))"
   ]
  },
  {
   "cell_type": "markdown",
   "metadata": {},
   "source": [
    "### Regresión con Random Forest\n",
    "\n",
    "Se probará con distinta profundidad máxima, para observar el desempeño del algoritmo usando la métrica $R^2$."
   ]
  },
  {
   "cell_type": "code",
   "execution_count": 41,
   "metadata": {},
   "outputs": [],
   "source": [
    "depths_rf = np.arange(1, 40, step=1)\n",
    "r2_scores_rf = np.zeros_like(depths_rf, dtype=np.float16)\n",
    "for i in range(len(depths_rf)):\n",
    "\n",
    "    regr_rf = RandomForestRegressor(max_depth=depths_rf[i], random_state=0)\n",
    "    regr_rf.fit(X, y)\n",
    "    #regr_rf.predict(X)\n",
    "    r2_scores_rf[i] = regr_rf.score(X,y)"
   ]
  },
  {
   "cell_type": "code",
   "execution_count": 42,
   "metadata": {},
   "outputs": [
    {
     "name": "stdout",
     "output_type": "stream",
     "text": [
      "Máximo R^2: 0.996\n"
     ]
    }
   ],
   "source": [
    "print(\"Máximo R^2:\", max(r2_scores_rf))"
   ]
  },
  {
   "cell_type": "code",
   "execution_count": 43,
   "metadata": {},
   "outputs": [
    {
     "data": {
      "image/png": "[encoded data removed]",
      "text/plain": [
       "<Figure size 432x288 with 1 Axes>"
      ]
     },
     "metadata": {
      "needs_background": "light"
     },
     "output_type": "display_data"
    }
   ],
   "source": [
    "plt.plot(depths_rf, r2_scores_rf, \"*\")\n",
    "plt.grid(True)\n",
    "plt.title(\"Desempeño de RF con distintas prifundidades máximas\")\n",
    "plt.xlabel(\"Prof. máxima\")\n",
    "plt.ylabel(\"$R^2$\")\n",
    "plt.xlim(left=0)\n",
    "plt.show()"
   ]
  },
  {
   "cell_type": "markdown",
   "metadata": {},
   "source": [
    "### Regresión con KNN\n",
    "\n",
    "Se probará con distinta cantidad de vecinos, y así observar el desempeño del algoritmo en base a la métrica $R^2$."
   ]
  },
  {
   "cell_type": "code",
   "execution_count": 44,
   "metadata": {},
   "outputs": [],
   "source": [
    "neigh_knn = np.arange(1, 21, step=1)\n",
    "r2_scores_knn = np.zeros_like(neigh_knn, dtype=np.float16)\n",
    "for i in range(len(neigh_knn)):\n",
    "\n",
    "    regr_knn = KNeighborsRegressor(n_neighbors=neigh_knn[i])\n",
    "    regr_knn.fit(X, y)\n",
    "    #regr_knn.predict(X)\n",
    "    r2_scores_knn[i] = regr_knn.score(X,y)"
   ]
  },
  {
   "cell_type": "code",
   "execution_count": 45,
   "metadata": {},
   "outputs": [
    {
     "name": "stdout",
     "output_type": "stream",
     "text": [
      "Máximo R^2: 1.0\n"
     ]
    }
   ],
   "source": [
    "print(\"Máximo R^2:\", max(r2_scores_knn))"
   ]
  },
  {
   "cell_type": "code",
   "execution_count": 46,
   "metadata": {},
   "outputs": [
    {
     "data": {
      "image/png": "[encoded data removed]",
      "text/plain": [
       "<Figure size 432x288 with 1 Axes>"
      ]
     },
     "metadata": {
      "needs_background": "light"
     },
     "output_type": "display_data"
    }
   ],
   "source": [
    "plt.plot(neigh_knn, r2_scores_knn, \"*\")\n",
    "plt.grid(True)\n",
    "plt.title(\"Desempeño de KNN con distintos vecinos\")\n",
    "plt.xlabel(\"Núm. de vecinos\")\n",
    "plt.ylabel(\"$R^2$\")\n",
    "plt.xlim(0,20.5)\n",
    "plt.xticks(np.arange(0, max(neigh_knn)+1, 2.0))\n",
    "plt.show()"
   ]
  }
 ],
 "metadata": {
  "interpreter": {
   "hash": "df63a23149fdf6a1e1d7923bbfdeceb47d055ec02b3c4e11e56d5a074cfbb042"
  },
  "kernelspec": {
   "display_name": "Python 3",
   "language": "python",
   "name": "python3"
  },
  "language_info": {
   "codemirror_mode": {
    "name": "ipython",
    "version": 3
   },
   "file_extension": ".py",
   "mimetype": "text/x-python",
   "name": "python",
   "nbconvert_exporter": "python",
   "pygments_lexer": "ipython3",
   "version": "3.8.5"
  }
 },
 "nbformat": 4,
 "nbformat_minor": 2
}
